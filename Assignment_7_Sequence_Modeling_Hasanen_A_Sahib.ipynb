{
  "nbformat": 4,
  "nbformat_minor": 0,
  "metadata": {
    "colab": {
      "name": "Assignment 7: Sequence Modeling - Hasanen A. Sahib",
      "provenance": [],
      "collapsed_sections": [],
      "include_colab_link": true
    },
    "kernelspec": {
      "name": "python3",
      "display_name": "Python 3"
    },
    "language_info": {
      "name": "python"
    },
    "accelerator": "GPU"
  },
  "cells": [
    {
      "cell_type": "markdown",
      "metadata": {
        "id": "view-in-github",
        "colab_type": "text"
      },
      "source": [
        "<a href=\"https://colab.research.google.com/github/Hasanen99/ML-Homeworks-AIDOJO/blob/main/Assignment_7_Sequence_Modeling_Hasanen_A_Sahib.ipynb\" target=\"_parent\"><img src=\"https://colab.research.google.com/assets/colab-badge.svg\" alt=\"Open In Colab\"/></a>"
      ]
    },
    {
      "cell_type": "markdown",
      "source": [
        "#Assignment 07: Sequence Modeling\n",
        "\n",
        "This Week's assignment is to train sequence models on the `Emoji Data` to classify the sentences emotion. You'll be creating models that takes in a sentence and predicts the appropriate emoji that describes the sentiment.\n",
        "\n",
        "Before starting copy this file and work on your own copy by following the below steps: <br>\n",
        "`File > Save Copy in Drive`. Then add your name to the file (e.g., Assignment 07: Sequence Modeling - Zahraa Dhafer).\n",
        "\n",
        "**DATASET**\n",
        "The dataset consists of two csv files, a training file with 16k rows and a testing file with 2k rows, each row has 3 columns, the sentence, the emotion as text (meant to provide description to the emoji and not to be used in training/testing) and the emoji symbol (e.g. 😄, 😡, 😍).<br><br>\n",
        "**Submission Deadline: Thursday, 3/3/2022 at 3:00 PM**\n",
        "\n",
        "**Requirements:**\n",
        "1. Set TensorFlow's random seed to 42.\n",
        "2. Import all necessary libraries for the sequence modeling project.\n",
        "3. Download the dataset (the link is provided below).\n",
        "4. Read data from CSV files and split it into inputs and targets (no need to do train_test_split as the data is already split).\n",
        "**Note**: Read both Train and Test files\n",
        "5. Tokenize and pad the text, use a vocabulary size of 10,000 and maximum sequence length of 64.\n",
        "6. Do the appropriate operations on the targets to prepare them for training.\n",
        "7. Define the sequential models, make sure to use RNN,LSTM,GRU and DNN with Embedding layers using Bidirectional LSTM if necessary. The training and validation accuracy should be at least 94% and 88% respectively.\n",
        "8. Use Adam optimizer and the appropriate loss function and metrics to compile the model.\n",
        "9. Use ModelCheckpoint callback to save the models at the epoch with the best validation accuracy, each model file should have your name (e.g. for Zahraa Dhafer, the model's file name would be \"LSTM_Zahraa_D.h5). Make sure to download the model file as it will be a part of your assignment submission. <br>[ModelCheckpoint documentation](https://www.tensorflow.org/api_docs/python/tf/keras/callbacks/ModelCheckpoint)\n",
        "10. Plot the models metrics.\n",
        "\n",
        "\n",
        "\n",
        "\n",
        "**HINTS:**\n",
        "Set the new hyperparameters like vocabulary size, input length (i.e. max sequence length) in a separate cell after the import cell in your notebook (failing to do so will affect your style score)\n",
        "\n",
        "**Note:** To get the best performance from the model, manually tune the hyperparameters of each model. \n",
        "\n",
        "Find relevant links below:<br>\n",
        "\n",
        "[Assignment Colab File](https://colab.research.google.com/drive/129V6jlMgzfOWi033t7xIgdn0ZKRvnjP-?usp=sharing)<br>\n",
        "[Dataset](https://drive.google.com/drive/folders/1i7LmIH7sJHSARAMXgznBqXZ82tzMhYiL?usp=sharing)\n",
        "\n",
        "[Submission Form](https://docs.google.com/forms/d/e/1FAIpQLSff0OH5akQLPw7LArOYwXwVvJVHtQSgKGnfxlpI8OL-NBUrcg/viewform?usp=pp_url)<br>\n",
        "\n",
        "\n",
        "Good luck and feel free to ask any questions in the or on the Questions channel."
      ],
      "metadata": {
        "id": "AU78WMPocdFw"
      }
    },
    {
      "cell_type": "markdown",
      "source": [
        "# 1- Import all necessary libraries for the sequence modeling project"
      ],
      "metadata": {
        "id": "NY3o4kreqOLG"
      }
    },
    {
      "cell_type": "code",
      "source": [
        "# write your code below\n",
        "import tensorflow as tf\n",
        "import numpy as np\n",
        "import pandas as pd\n",
        "import matplotlib.pyplot as plt\n",
        "import datetime\n",
        "import seaborn as sns\n",
        "from sklearn import metrics\n",
        "\n",
        "%load_ext tensorboard\n",
        "\n",
        "tf.random.set_seed(42)\n"
      ],
      "metadata": {
        "id": "0nYUDKQBic7L"
      },
      "execution_count": null,
      "outputs": []
    },
    {
      "cell_type": "markdown",
      "source": [
        "# 2- Download the dataset"
      ],
      "metadata": {
        "id": "dG-8I4sUqatO"
      }
    },
    {
      "cell_type": "code",
      "source": [
        "Train_URL = 'https://drive.google.com/file/d/1peqmLNHwf5NUgBl_qibVixNHxxwQ69jk/view?usp=sharing'\n",
        "Test_URL = 'https://drive.google.com/file/d/1v3xPVj9d9DmuusXFWFUtKiMPtIX6ffLt/view?usp=sharing'\n",
        "\n",
        "path_1 = 'https://drive.google.com/uc?export=download&id='+Train_URL.split('/')[-2]\n",
        "path_2 = 'https://drive.google.com/uc?export=download&id='+Test_URL.split('/')[-2]\n",
        "\n",
        "Train_df = pd.read_csv(path_1)[['text','emoji']]\n",
        "Test_df = pd.read_csv(path_2)[['text','emoji']]\n",
        "\n",
        "Train_df"
      ],
      "metadata": {
        "colab": {
          "base_uri": "https://localhost:8080/",
          "height": 424
        },
        "id": "mX562-Amz7mA",
        "outputId": "daa42aa8-43e1-4ddb-a2c3-746b1232d0da"
      },
      "execution_count": null,
      "outputs": [
        {
          "output_type": "execute_result",
          "data": {
            "text/html": [
              "\n",
              "  <div id=\"df-4e90d4bf-2344-4bb8-8942-0cebaba7b76a\">\n",
              "    <div class=\"colab-df-container\">\n",
              "      <div>\n",
              "<style scoped>\n",
              "    .dataframe tbody tr th:only-of-type {\n",
              "        vertical-align: middle;\n",
              "    }\n",
              "\n",
              "    .dataframe tbody tr th {\n",
              "        vertical-align: top;\n",
              "    }\n",
              "\n",
              "    .dataframe thead th {\n",
              "        text-align: right;\n",
              "    }\n",
              "</style>\n",
              "<table border=\"1\" class=\"dataframe\">\n",
              "  <thead>\n",
              "    <tr style=\"text-align: right;\">\n",
              "      <th></th>\n",
              "      <th>text</th>\n",
              "      <th>emoji</th>\n",
              "    </tr>\n",
              "  </thead>\n",
              "  <tbody>\n",
              "    <tr>\n",
              "      <th>0</th>\n",
              "      <td>i didnt feel humiliated</td>\n",
              "      <td>😢</td>\n",
              "    </tr>\n",
              "    <tr>\n",
              "      <th>1</th>\n",
              "      <td>i can go from feeling so hopeless to so damned...</td>\n",
              "      <td>😢</td>\n",
              "    </tr>\n",
              "    <tr>\n",
              "      <th>2</th>\n",
              "      <td>im grabbing a minute to post i feel greedy wrong</td>\n",
              "      <td>😡</td>\n",
              "    </tr>\n",
              "    <tr>\n",
              "      <th>3</th>\n",
              "      <td>i am ever feeling nostalgic about the fireplac...</td>\n",
              "      <td>😍</td>\n",
              "    </tr>\n",
              "    <tr>\n",
              "      <th>4</th>\n",
              "      <td>i am feeling grouchy</td>\n",
              "      <td>😡</td>\n",
              "    </tr>\n",
              "    <tr>\n",
              "      <th>...</th>\n",
              "      <td>...</td>\n",
              "      <td>...</td>\n",
              "    </tr>\n",
              "    <tr>\n",
              "      <th>15995</th>\n",
              "      <td>i just had a very brief time in the beanbag an...</td>\n",
              "      <td>😢</td>\n",
              "    </tr>\n",
              "    <tr>\n",
              "      <th>15996</th>\n",
              "      <td>i am now turning and i feel pathetic that i am...</td>\n",
              "      <td>😢</td>\n",
              "    </tr>\n",
              "    <tr>\n",
              "      <th>15997</th>\n",
              "      <td>i feel strong and good overall</td>\n",
              "      <td>😄</td>\n",
              "    </tr>\n",
              "    <tr>\n",
              "      <th>15998</th>\n",
              "      <td>i feel like this was such a rude comment and i...</td>\n",
              "      <td>😡</td>\n",
              "    </tr>\n",
              "    <tr>\n",
              "      <th>15999</th>\n",
              "      <td>i know a lot but i feel so stupid because i ca...</td>\n",
              "      <td>😢</td>\n",
              "    </tr>\n",
              "  </tbody>\n",
              "</table>\n",
              "<p>16000 rows × 2 columns</p>\n",
              "</div>\n",
              "      <button class=\"colab-df-convert\" onclick=\"convertToInteractive('df-4e90d4bf-2344-4bb8-8942-0cebaba7b76a')\"\n",
              "              title=\"Convert this dataframe to an interactive table.\"\n",
              "              style=\"display:none;\">\n",
              "        \n",
              "  <svg xmlns=\"http://www.w3.org/2000/svg\" height=\"24px\"viewBox=\"0 0 24 24\"\n",
              "       width=\"24px\">\n",
              "    <path d=\"M0 0h24v24H0V0z\" fill=\"none\"/>\n",
              "    <path d=\"M18.56 5.44l.94 2.06.94-2.06 2.06-.94-2.06-.94-.94-2.06-.94 2.06-2.06.94zm-11 1L8.5 8.5l.94-2.06 2.06-.94-2.06-.94L8.5 2.5l-.94 2.06-2.06.94zm10 10l.94 2.06.94-2.06 2.06-.94-2.06-.94-.94-2.06-.94 2.06-2.06.94z\"/><path d=\"M17.41 7.96l-1.37-1.37c-.4-.4-.92-.59-1.43-.59-.52 0-1.04.2-1.43.59L10.3 9.45l-7.72 7.72c-.78.78-.78 2.05 0 2.83L4 21.41c.39.39.9.59 1.41.59.51 0 1.02-.2 1.41-.59l7.78-7.78 2.81-2.81c.8-.78.8-2.07 0-2.86zM5.41 20L4 18.59l7.72-7.72 1.47 1.35L5.41 20z\"/>\n",
              "  </svg>\n",
              "      </button>\n",
              "      \n",
              "  <style>\n",
              "    .colab-df-container {\n",
              "      display:flex;\n",
              "      flex-wrap:wrap;\n",
              "      gap: 12px;\n",
              "    }\n",
              "\n",
              "    .colab-df-convert {\n",
              "      background-color: #E8F0FE;\n",
              "      border: none;\n",
              "      border-radius: 50%;\n",
              "      cursor: pointer;\n",
              "      display: none;\n",
              "      fill: #1967D2;\n",
              "      height: 32px;\n",
              "      padding: 0 0 0 0;\n",
              "      width: 32px;\n",
              "    }\n",
              "\n",
              "    .colab-df-convert:hover {\n",
              "      background-color: #E2EBFA;\n",
              "      box-shadow: 0px 1px 2px rgba(60, 64, 67, 0.3), 0px 1px 3px 1px rgba(60, 64, 67, 0.15);\n",
              "      fill: #174EA6;\n",
              "    }\n",
              "\n",
              "    [theme=dark] .colab-df-convert {\n",
              "      background-color: #3B4455;\n",
              "      fill: #D2E3FC;\n",
              "    }\n",
              "\n",
              "    [theme=dark] .colab-df-convert:hover {\n",
              "      background-color: #434B5C;\n",
              "      box-shadow: 0px 1px 3px 1px rgba(0, 0, 0, 0.15);\n",
              "      filter: drop-shadow(0px 1px 2px rgba(0, 0, 0, 0.3));\n",
              "      fill: #FFFFFF;\n",
              "    }\n",
              "  </style>\n",
              "\n",
              "      <script>\n",
              "        const buttonEl =\n",
              "          document.querySelector('#df-4e90d4bf-2344-4bb8-8942-0cebaba7b76a button.colab-df-convert');\n",
              "        buttonEl.style.display =\n",
              "          google.colab.kernel.accessAllowed ? 'block' : 'none';\n",
              "\n",
              "        async function convertToInteractive(key) {\n",
              "          const element = document.querySelector('#df-4e90d4bf-2344-4bb8-8942-0cebaba7b76a');\n",
              "          const dataTable =\n",
              "            await google.colab.kernel.invokeFunction('convertToInteractive',\n",
              "                                                     [key], {});\n",
              "          if (!dataTable) return;\n",
              "\n",
              "          const docLinkHtml = 'Like what you see? Visit the ' +\n",
              "            '<a target=\"_blank\" href=https://colab.research.google.com/notebooks/data_table.ipynb>data table notebook</a>'\n",
              "            + ' to learn more about interactive tables.';\n",
              "          element.innerHTML = '';\n",
              "          dataTable['output_type'] = 'display_data';\n",
              "          await google.colab.output.renderOutput(dataTable, element);\n",
              "          const docLink = document.createElement('div');\n",
              "          docLink.innerHTML = docLinkHtml;\n",
              "          element.appendChild(docLink);\n",
              "        }\n",
              "      </script>\n",
              "    </div>\n",
              "  </div>\n",
              "  "
            ],
            "text/plain": [
              "                                                    text emoji\n",
              "0                                i didnt feel humiliated     😢\n",
              "1      i can go from feeling so hopeless to so damned...     😢\n",
              "2       im grabbing a minute to post i feel greedy wrong     😡\n",
              "3      i am ever feeling nostalgic about the fireplac...     😍\n",
              "4                                   i am feeling grouchy     😡\n",
              "...                                                  ...   ...\n",
              "15995  i just had a very brief time in the beanbag an...     😢\n",
              "15996  i am now turning and i feel pathetic that i am...     😢\n",
              "15997                     i feel strong and good overall     😄\n",
              "15998  i feel like this was such a rude comment and i...     😡\n",
              "15999  i know a lot but i feel so stupid because i ca...     😢\n",
              "\n",
              "[16000 rows x 2 columns]"
            ]
          },
          "metadata": {},
          "execution_count": 2
        }
      ]
    },
    {
      "cell_type": "code",
      "source": [
        "Train_df"
      ],
      "metadata": {
        "colab": {
          "base_uri": "https://localhost:8080/",
          "height": 424
        },
        "id": "NdHrm6n4WX1b",
        "outputId": "bbe6285e-d8d7-493f-baae-f9dc25f4908d"
      },
      "execution_count": null,
      "outputs": [
        {
          "output_type": "execute_result",
          "data": {
            "text/html": [
              "\n",
              "  <div id=\"df-fad034ef-789f-48b7-afb7-7772e9f9176b\">\n",
              "    <div class=\"colab-df-container\">\n",
              "      <div>\n",
              "<style scoped>\n",
              "    .dataframe tbody tr th:only-of-type {\n",
              "        vertical-align: middle;\n",
              "    }\n",
              "\n",
              "    .dataframe tbody tr th {\n",
              "        vertical-align: top;\n",
              "    }\n",
              "\n",
              "    .dataframe thead th {\n",
              "        text-align: right;\n",
              "    }\n",
              "</style>\n",
              "<table border=\"1\" class=\"dataframe\">\n",
              "  <thead>\n",
              "    <tr style=\"text-align: right;\">\n",
              "      <th></th>\n",
              "      <th>text</th>\n",
              "      <th>emoji</th>\n",
              "    </tr>\n",
              "  </thead>\n",
              "  <tbody>\n",
              "    <tr>\n",
              "      <th>0</th>\n",
              "      <td>i didnt feel humiliated</td>\n",
              "      <td>😢</td>\n",
              "    </tr>\n",
              "    <tr>\n",
              "      <th>1</th>\n",
              "      <td>i can go from feeling so hopeless to so damned...</td>\n",
              "      <td>😢</td>\n",
              "    </tr>\n",
              "    <tr>\n",
              "      <th>2</th>\n",
              "      <td>im grabbing a minute to post i feel greedy wrong</td>\n",
              "      <td>😡</td>\n",
              "    </tr>\n",
              "    <tr>\n",
              "      <th>3</th>\n",
              "      <td>i am ever feeling nostalgic about the fireplac...</td>\n",
              "      <td>😍</td>\n",
              "    </tr>\n",
              "    <tr>\n",
              "      <th>4</th>\n",
              "      <td>i am feeling grouchy</td>\n",
              "      <td>😡</td>\n",
              "    </tr>\n",
              "    <tr>\n",
              "      <th>...</th>\n",
              "      <td>...</td>\n",
              "      <td>...</td>\n",
              "    </tr>\n",
              "    <tr>\n",
              "      <th>15995</th>\n",
              "      <td>i just had a very brief time in the beanbag an...</td>\n",
              "      <td>😢</td>\n",
              "    </tr>\n",
              "    <tr>\n",
              "      <th>15996</th>\n",
              "      <td>i am now turning and i feel pathetic that i am...</td>\n",
              "      <td>😢</td>\n",
              "    </tr>\n",
              "    <tr>\n",
              "      <th>15997</th>\n",
              "      <td>i feel strong and good overall</td>\n",
              "      <td>😄</td>\n",
              "    </tr>\n",
              "    <tr>\n",
              "      <th>15998</th>\n",
              "      <td>i feel like this was such a rude comment and i...</td>\n",
              "      <td>😡</td>\n",
              "    </tr>\n",
              "    <tr>\n",
              "      <th>15999</th>\n",
              "      <td>i know a lot but i feel so stupid because i ca...</td>\n",
              "      <td>😢</td>\n",
              "    </tr>\n",
              "  </tbody>\n",
              "</table>\n",
              "<p>16000 rows × 2 columns</p>\n",
              "</div>\n",
              "      <button class=\"colab-df-convert\" onclick=\"convertToInteractive('df-fad034ef-789f-48b7-afb7-7772e9f9176b')\"\n",
              "              title=\"Convert this dataframe to an interactive table.\"\n",
              "              style=\"display:none;\">\n",
              "        \n",
              "  <svg xmlns=\"http://www.w3.org/2000/svg\" height=\"24px\"viewBox=\"0 0 24 24\"\n",
              "       width=\"24px\">\n",
              "    <path d=\"M0 0h24v24H0V0z\" fill=\"none\"/>\n",
              "    <path d=\"M18.56 5.44l.94 2.06.94-2.06 2.06-.94-2.06-.94-.94-2.06-.94 2.06-2.06.94zm-11 1L8.5 8.5l.94-2.06 2.06-.94-2.06-.94L8.5 2.5l-.94 2.06-2.06.94zm10 10l.94 2.06.94-2.06 2.06-.94-2.06-.94-.94-2.06-.94 2.06-2.06.94z\"/><path d=\"M17.41 7.96l-1.37-1.37c-.4-.4-.92-.59-1.43-.59-.52 0-1.04.2-1.43.59L10.3 9.45l-7.72 7.72c-.78.78-.78 2.05 0 2.83L4 21.41c.39.39.9.59 1.41.59.51 0 1.02-.2 1.41-.59l7.78-7.78 2.81-2.81c.8-.78.8-2.07 0-2.86zM5.41 20L4 18.59l7.72-7.72 1.47 1.35L5.41 20z\"/>\n",
              "  </svg>\n",
              "      </button>\n",
              "      \n",
              "  <style>\n",
              "    .colab-df-container {\n",
              "      display:flex;\n",
              "      flex-wrap:wrap;\n",
              "      gap: 12px;\n",
              "    }\n",
              "\n",
              "    .colab-df-convert {\n",
              "      background-color: #E8F0FE;\n",
              "      border: none;\n",
              "      border-radius: 50%;\n",
              "      cursor: pointer;\n",
              "      display: none;\n",
              "      fill: #1967D2;\n",
              "      height: 32px;\n",
              "      padding: 0 0 0 0;\n",
              "      width: 32px;\n",
              "    }\n",
              "\n",
              "    .colab-df-convert:hover {\n",
              "      background-color: #E2EBFA;\n",
              "      box-shadow: 0px 1px 2px rgba(60, 64, 67, 0.3), 0px 1px 3px 1px rgba(60, 64, 67, 0.15);\n",
              "      fill: #174EA6;\n",
              "    }\n",
              "\n",
              "    [theme=dark] .colab-df-convert {\n",
              "      background-color: #3B4455;\n",
              "      fill: #D2E3FC;\n",
              "    }\n",
              "\n",
              "    [theme=dark] .colab-df-convert:hover {\n",
              "      background-color: #434B5C;\n",
              "      box-shadow: 0px 1px 3px 1px rgba(0, 0, 0, 0.15);\n",
              "      filter: drop-shadow(0px 1px 2px rgba(0, 0, 0, 0.3));\n",
              "      fill: #FFFFFF;\n",
              "    }\n",
              "  </style>\n",
              "\n",
              "      <script>\n",
              "        const buttonEl =\n",
              "          document.querySelector('#df-fad034ef-789f-48b7-afb7-7772e9f9176b button.colab-df-convert');\n",
              "        buttonEl.style.display =\n",
              "          google.colab.kernel.accessAllowed ? 'block' : 'none';\n",
              "\n",
              "        async function convertToInteractive(key) {\n",
              "          const element = document.querySelector('#df-fad034ef-789f-48b7-afb7-7772e9f9176b');\n",
              "          const dataTable =\n",
              "            await google.colab.kernel.invokeFunction('convertToInteractive',\n",
              "                                                     [key], {});\n",
              "          if (!dataTable) return;\n",
              "\n",
              "          const docLinkHtml = 'Like what you see? Visit the ' +\n",
              "            '<a target=\"_blank\" href=https://colab.research.google.com/notebooks/data_table.ipynb>data table notebook</a>'\n",
              "            + ' to learn more about interactive tables.';\n",
              "          element.innerHTML = '';\n",
              "          dataTable['output_type'] = 'display_data';\n",
              "          await google.colab.output.renderOutput(dataTable, element);\n",
              "          const docLink = document.createElement('div');\n",
              "          docLink.innerHTML = docLinkHtml;\n",
              "          element.appendChild(docLink);\n",
              "        }\n",
              "      </script>\n",
              "    </div>\n",
              "  </div>\n",
              "  "
            ],
            "text/plain": [
              "                                                    text emoji\n",
              "0                                i didnt feel humiliated     😢\n",
              "1      i can go from feeling so hopeless to so damned...     😢\n",
              "2       im grabbing a minute to post i feel greedy wrong     😡\n",
              "3      i am ever feeling nostalgic about the fireplac...     😍\n",
              "4                                   i am feeling grouchy     😡\n",
              "...                                                  ...   ...\n",
              "15995  i just had a very brief time in the beanbag an...     😢\n",
              "15996  i am now turning and i feel pathetic that i am...     😢\n",
              "15997                     i feel strong and good overall     😄\n",
              "15998  i feel like this was such a rude comment and i...     😡\n",
              "15999  i know a lot but i feel so stupid because i ca...     😢\n",
              "\n",
              "[16000 rows x 2 columns]"
            ]
          },
          "metadata": {},
          "execution_count": 3
        }
      ]
    },
    {
      "cell_type": "markdown",
      "source": [
        "# 3- Read data from CSV files and split it into inputs and targets \n",
        "\n",
        "**Note**: no need to do train_test_split as the data is already split"
      ],
      "metadata": {
        "id": "MLA4G5gFqjOz"
      }
    },
    {
      "cell_type": "code",
      "source": [
        "# write your code below\n",
        "X_train=Train_df['text']\n",
        "X_test=Test_df['text']\n",
        "\n",
        "Y_train=Train_df['emoji']\n",
        "Y_test=Test_df['emoji']"
      ],
      "metadata": {
        "id": "U5jS8nESqtmf"
      },
      "execution_count": null,
      "outputs": []
    },
    {
      "cell_type": "markdown",
      "source": [
        "#4- Tokenize and pad the text, use a vocabulary size of 10,000 and maximum sequence length of 64"
      ],
      "metadata": {
        "id": "MbkGa2lwrZ-A"
      }
    },
    {
      "cell_type": "code",
      "source": [
        "label=pd.Series(list(set(Y_train)))                             #find the unique emojis used\n",
        "index_label=dict(label)                                         # create index_label dictionary and label_index dictionary\n",
        "label_index=dict(zip(index_label.values(),index_label.keys()))\n",
        "label_index"
      ],
      "metadata": {
        "colab": {
          "base_uri": "https://localhost:8080/"
        },
        "id": "0ig-2CF06t5X",
        "outputId": "ab1844e2-c224-4f0c-8ff7-0e8afb7a15fb"
      },
      "execution_count": null,
      "outputs": [
        {
          "output_type": "execute_result",
          "data": {
            "text/plain": [
              "{'😄': 1, '😍': 2, '😡': 5, '😢': 4, '😨': 3, '😲': 0}"
            ]
          },
          "metadata": {},
          "execution_count": 5
        }
      ]
    },
    {
      "cell_type": "code",
      "source": [
        "# write your code below\n",
        "\n",
        "vocab_size = 10000\n",
        "embeddings_dims = 100\n",
        "max_sequence= 64\n",
        "Num_of_classes=len(label)"
      ],
      "metadata": {
        "id": "WVj4OxmprE7W"
      },
      "execution_count": null,
      "outputs": []
    },
    {
      "cell_type": "code",
      "source": [
        "tokenizer = tf.keras.preprocessing.text.Tokenizer(\n",
        "  num_words = vocab_size,\n",
        "  oov_token = '<OOV>'\n",
        ")\n",
        "\n",
        "tokenizer.fit_on_texts(X_train)"
      ],
      "metadata": {
        "id": "_LhH60wE6xB2"
      },
      "execution_count": null,
      "outputs": []
    },
    {
      "cell_type": "code",
      "source": [
        "X_train_tok = tokenizer.texts_to_sequences(X_train)\n",
        "X_test_tok = tokenizer.texts_to_sequences(X_test)\n",
        "X_train_tok[70]"
      ],
      "metadata": {
        "colab": {
          "base_uri": "https://localhost:8080/"
        },
        "id": "q53njEcK69FC",
        "outputId": "88bb5abf-483e-4532-fc1a-68476b3fdb47"
      },
      "execution_count": null,
      "outputs": [
        {
          "output_type": "execute_result",
          "data": {
            "text/plain": [
              "[2, 24, 8, 393, 19, 1541, 2, 24, 117, 6, 7438, 1615, 30, 1388]"
            ]
          },
          "metadata": {},
          "execution_count": 8
        }
      ]
    },
    {
      "cell_type": "code",
      "source": [
        "X_train_padd = tf.keras.preprocessing.sequence.pad_sequences(\n",
        "    X_train_tok,\n",
        "    maxlen= max_sequence,\n",
        "    padding='post',\n",
        "    truncating='post'\n",
        ")\n",
        "\n",
        "X_test_padd = tf.keras.preprocessing.sequence.pad_sequences(\n",
        "    X_test_tok,\n",
        "    maxlen= max_sequence,\n",
        "    padding='post',\n",
        "    truncating='post'\n",
        ")"
      ],
      "metadata": {
        "id": "snjb3FLp7WIw"
      },
      "execution_count": null,
      "outputs": []
    },
    {
      "cell_type": "code",
      "source": [
        "X_train_padd[70]"
      ],
      "metadata": {
        "colab": {
          "base_uri": "https://localhost:8080/"
        },
        "id": "dUsFNz0W7pMf",
        "outputId": "ff98dfe6-4e9e-4ff7-ea97-fdd2f34e2887"
      },
      "execution_count": null,
      "outputs": [
        {
          "output_type": "execute_result",
          "data": {
            "text/plain": [
              "array([   2,   24,    8,  393,   19, 1541,    2,   24,  117,    6, 7438,\n",
              "       1615,   30, 1388,    0,    0,    0,    0,    0,    0,    0,    0,\n",
              "          0,    0,    0,    0,    0,    0,    0,    0,    0,    0,    0,\n",
              "          0,    0,    0,    0,    0,    0,    0,    0,    0,    0,    0,\n",
              "          0,    0,    0,    0,    0,    0,    0,    0,    0,    0,    0,\n",
              "          0,    0,    0,    0,    0,    0,    0,    0,    0], dtype=int32)"
            ]
          },
          "metadata": {},
          "execution_count": 10
        }
      ]
    },
    {
      "cell_type": "markdown",
      "source": [
        "#5- Do the appropriate operations on the targets to prepare them for training"
      ],
      "metadata": {
        "id": "BUA5p-uwrlLL"
      }
    },
    {
      "cell_type": "code",
      "source": [
        "# write your code below\n",
        "\n",
        "Y_train=Y_train.replace(label_index) #Convert each emoji to number in train and test data\n",
        "Y_test=Y_test.replace(label_index)"
      ],
      "metadata": {
        "id": "RUEF6dN_rFGD"
      },
      "execution_count": null,
      "outputs": []
    },
    {
      "cell_type": "code",
      "source": [
        "Y_train"
      ],
      "metadata": {
        "colab": {
          "base_uri": "https://localhost:8080/"
        },
        "id": "HflxVkbx8Btl",
        "outputId": "bf4b658b-be59-4172-908c-97c3cd49b867"
      },
      "execution_count": null,
      "outputs": [
        {
          "output_type": "execute_result",
          "data": {
            "text/plain": [
              "0        4\n",
              "1        4\n",
              "2        5\n",
              "3        2\n",
              "4        5\n",
              "        ..\n",
              "15995    4\n",
              "15996    4\n",
              "15997    1\n",
              "15998    5\n",
              "15999    4\n",
              "Name: emoji, Length: 16000, dtype: int64"
            ]
          },
          "metadata": {},
          "execution_count": 12
        }
      ]
    },
    {
      "cell_type": "code",
      "source": [
        "B_size=32 #var of the batch size\n",
        "\n",
        "def pipeline(x, y, batch_size):\n",
        "  data = tf.data.Dataset.from_tensor_slices((x,y))\n",
        "  data = data.shuffle(1024)\n",
        "  data = data.batch(batch_size)\n",
        "  data = data.prefetch(tf.data.AUTOTUNE)\n",
        "  return data"
      ],
      "metadata": {
        "id": "6cvSto66Xxw7"
      },
      "execution_count": null,
      "outputs": []
    },
    {
      "cell_type": "code",
      "source": [
        "Train_data=pipeline(X_train_padd,Y_train,B_size)\n",
        "Test_data=pipeline(X_test_padd,Y_test,B_size)"
      ],
      "metadata": {
        "id": "HwBiONCSYHHm"
      },
      "execution_count": null,
      "outputs": []
    },
    {
      "cell_type": "code",
      "source": [
        "for x,y in Train_data.take(1):\n",
        "  print(x[0],'\\n\\n',y[0])"
      ],
      "metadata": {
        "colab": {
          "base_uri": "https://localhost:8080/"
        },
        "id": "BVxKXjDFY37i",
        "outputId": "89e8cdda-6fd0-435d-c7a3-0757a054a643"
      },
      "execution_count": null,
      "outputs": [
        {
          "output_type": "stream",
          "name": "stdout",
          "text": [
            "tf.Tensor(\n",
            "[  2   3 898   4 467   0   0   0   0   0   0   0   0   0   0   0   0   0\n",
            "   0   0   0   0   0   0   0   0   0   0   0   0   0   0   0   0   0   0\n",
            "   0   0   0   0   0   0   0   0   0   0   0   0   0   0   0   0   0   0\n",
            "   0   0   0   0   0   0   0   0   0   0], shape=(64,), dtype=int32) \n",
            "\n",
            " tf.Tensor(3, shape=(), dtype=int64)\n"
          ]
        }
      ]
    },
    {
      "cell_type": "markdown",
      "source": [
        "#6- Modeling:\n",
        "Define the sequential models, make sure to use RNN,LSTM,GRU and DNN with Embedding layers using Bidirectional LSTM if necessary. The training and validation accuracy should be at least 94% and 88% respectively"
      ],
      "metadata": {
        "id": "nOEo3I9grsab"
      }
    },
    {
      "cell_type": "markdown",
      "source": [
        "##DNN with Embedding layer"
      ],
      "metadata": {
        "id": "F1tDWfOjcfg3"
      }
    },
    {
      "cell_type": "code",
      "source": [
        "# write your code below\n",
        "DNN_with_E = tf.keras.Sequential([\n",
        "                                 \n",
        "  tf.keras.layers.Embedding(input_length=max_sequence,input_dim=vocab_size+1, output_dim=embeddings_dims, mask_zero=True),\n",
        "  tf.keras.layers.Flatten(),\n",
        "  tf.keras.layers.Dense(256, activation=tf.nn.leaky_relu,kernel_initializer=tf.initializers.HeUniform),\n",
        "  tf.keras.layers.Dense(128, activation=tf.nn.leaky_relu,kernel_initializer=tf.initializers.HeUniform),\n",
        "  tf.keras.layers.Dense(Num_of_classes, activation='softmax')\n",
        "])\n",
        "\n",
        "DNN_with_E.compile(\n",
        "    optimizer=tf.optimizers.Adam(), \n",
        "    loss=tf.losses.SparseCategoricalCrossentropy(),\n",
        "    metrics =['accuracy']\n",
        ")\n",
        "DNN_with_E.summary()\n"
      ],
      "metadata": {
        "colab": {
          "base_uri": "https://localhost:8080/"
        },
        "id": "NI4948Jrclg1",
        "outputId": "b0e320c6-3907-4d91-f111-bdcf11a55537"
      },
      "execution_count": null,
      "outputs": [
        {
          "output_type": "stream",
          "name": "stdout",
          "text": [
            "Model: \"sequential_17\"\n",
            "_________________________________________________________________\n",
            " Layer (type)                Output Shape              Param #   \n",
            "=================================================================\n",
            " embedding_17 (Embedding)    (None, 64, 100)           1000100   \n",
            "                                                                 \n",
            " flatten (Flatten)           (None, 6400)              0         \n",
            "                                                                 \n",
            " dense_30 (Dense)            (None, 256)               1638656   \n",
            "                                                                 \n",
            " dense_31 (Dense)            (None, 128)               32896     \n",
            "                                                                 \n",
            " dense_32 (Dense)            (None, 6)                 774       \n",
            "                                                                 \n",
            "=================================================================\n",
            "Total params: 2,672,426\n",
            "Trainable params: 2,672,426\n",
            "Non-trainable params: 0\n",
            "_________________________________________________________________\n"
          ]
        }
      ]
    },
    {
      "cell_type": "code",
      "source": [
        "log_dir = f\"DNN_with_E/fit/{datetime.datetime.now().strftime('%Y%m%d-%H%M%S')}\"\n",
        "tensorboard_callback = tf.keras.callbacks.TensorBoard(log_dir=log_dir, histogram_freq=1)"
      ],
      "metadata": {
        "id": "sJFf1ebjc5za"
      },
      "execution_count": null,
      "outputs": []
    },
    {
      "cell_type": "code",
      "source": [
        "DNN_with_E.fit(Train_data,epochs=10,validation_data=Test_data,callbacks=[tensorboard_callback])"
      ],
      "metadata": {
        "colab": {
          "base_uri": "https://localhost:8080/"
        },
        "id": "8Mts62P3c_dx",
        "outputId": "d6d12e03-e0e5-4c7d-aeec-b95e477ada13"
      },
      "execution_count": null,
      "outputs": [
        {
          "output_type": "stream",
          "name": "stdout",
          "text": [
            "Epoch 1/10\n",
            "500/500 [==============================] - 5s 9ms/step - loss: 1.0514 - accuracy: 0.6065 - val_loss: 0.4923 - val_accuracy: 0.8320\n",
            "Epoch 2/10\n",
            "500/500 [==============================] - 4s 8ms/step - loss: 0.2004 - accuracy: 0.9325 - val_loss: 0.5710 - val_accuracy: 0.8320\n",
            "Epoch 3/10\n",
            "500/500 [==============================] - 4s 8ms/step - loss: 0.0453 - accuracy: 0.9866 - val_loss: 0.7121 - val_accuracy: 0.8235\n",
            "Epoch 4/10\n",
            "500/500 [==============================] - 4s 8ms/step - loss: 0.0228 - accuracy: 0.9941 - val_loss: 0.7443 - val_accuracy: 0.8375\n",
            "Epoch 5/10\n",
            "500/500 [==============================] - 4s 8ms/step - loss: 0.0176 - accuracy: 0.9949 - val_loss: 0.7985 - val_accuracy: 0.8325\n",
            "Epoch 6/10\n",
            "500/500 [==============================] - 4s 8ms/step - loss: 0.0112 - accuracy: 0.9958 - val_loss: 0.8669 - val_accuracy: 0.8330\n",
            "Epoch 7/10\n",
            "500/500 [==============================] - 4s 9ms/step - loss: 0.0093 - accuracy: 0.9962 - val_loss: 0.9502 - val_accuracy: 0.8320\n",
            "Epoch 8/10\n",
            "500/500 [==============================] - 4s 8ms/step - loss: 0.0653 - accuracy: 0.9784 - val_loss: 1.0142 - val_accuracy: 0.7995\n",
            "Epoch 9/10\n",
            "500/500 [==============================] - 4s 9ms/step - loss: 0.0481 - accuracy: 0.9844 - val_loss: 1.0929 - val_accuracy: 0.8115\n",
            "Epoch 10/10\n",
            "500/500 [==============================] - 4s 8ms/step - loss: 0.0175 - accuracy: 0.9929 - val_loss: 1.1944 - val_accuracy: 0.8195\n"
          ]
        },
        {
          "output_type": "execute_result",
          "data": {
            "text/plain": [
              "<keras.callbacks.History at 0x7f25e88b4390>"
            ]
          },
          "metadata": {},
          "execution_count": 111
        }
      ]
    },
    {
      "cell_type": "code",
      "source": [
        "%tensorboard --logdir DNN_with_E/fit"
      ],
      "metadata": {
        "id": "AzqAOaLTfwU9"
      },
      "execution_count": null,
      "outputs": []
    },
    {
      "cell_type": "code",
      "source": [
        "yp_DNN_with_E=DNN_with_E.predict(Test_data)"
      ],
      "metadata": {
        "id": "99tI2op1f2Ip"
      },
      "execution_count": null,
      "outputs": []
    },
    {
      "cell_type": "markdown",
      "source": [
        "##RNN"
      ],
      "metadata": {
        "id": "-2s2sLZ51B9N"
      }
    },
    {
      "cell_type": "code",
      "source": [
        "# write your code below\n",
        "rnn_model = tf.keras.Sequential([\n",
        "                                 \n",
        "  tf.keras.layers.Embedding(input_length=max_sequence,input_dim=vocab_size+1, output_dim=embeddings_dims, mask_zero=True),\n",
        "  tf.keras.layers.SimpleRNN(100, activation='tanh'),\n",
        "  tf.keras.layers.Dense(Num_of_classes, activation='softmax')\n",
        "])\n",
        "\n",
        "rnn_model.compile(\n",
        "    optimizer=tf.optimizers.Adam(), \n",
        "    loss=tf.losses.SparseCategoricalCrossentropy(),\n",
        "    metrics =['accuracy']\n",
        ")\n",
        "rnn_model.summary()\n"
      ],
      "metadata": {
        "id": "Fy6HA5ZIrFLJ",
        "colab": {
          "base_uri": "https://localhost:8080/"
        },
        "outputId": "ba2644b2-127e-4a8f-b972-d641e2c6c404"
      },
      "execution_count": null,
      "outputs": [
        {
          "output_type": "stream",
          "name": "stdout",
          "text": [
            "Model: \"sequential_12\"\n",
            "_________________________________________________________________\n",
            " Layer (type)                Output Shape              Param #   \n",
            "=================================================================\n",
            " embedding_12 (Embedding)    (None, 64, 100)           1000100   \n",
            "                                                                 \n",
            " simple_rnn_1 (SimpleRNN)    (None, 100)               20100     \n",
            "                                                                 \n",
            " dense_21 (Dense)            (None, 6)                 606       \n",
            "                                                                 \n",
            "=================================================================\n",
            "Total params: 1,020,806\n",
            "Trainable params: 1,020,806\n",
            "Non-trainable params: 0\n",
            "_________________________________________________________________\n"
          ]
        }
      ]
    },
    {
      "cell_type": "code",
      "source": [
        "log_dir = f\"RNN/fit/{datetime.datetime.now().strftime('%Y%m%d-%H%M%S')}\"\n",
        "tensorboard_callback = tf.keras.callbacks.TensorBoard(log_dir=log_dir, histogram_freq=1)"
      ],
      "metadata": {
        "id": "pDj0ygwYhX65"
      },
      "execution_count": null,
      "outputs": []
    },
    {
      "cell_type": "code",
      "source": [
        "# rnn_model.fit(X_train_padd,Y_train,epochs=10,validation_data=(X_test_padd,Y_test))\n",
        "rnn_model.fit(Train_data,epochs=10,validation_data=Test_data,callbacks=[tensorboard_callback])"
      ],
      "metadata": {
        "colab": {
          "base_uri": "https://localhost:8080/"
        },
        "id": "Bdwfg1iv8jYX",
        "outputId": "bfea7dc7-6b4c-47f3-ab91-29cd58b7a3b6"
      },
      "execution_count": null,
      "outputs": [
        {
          "output_type": "stream",
          "name": "stdout",
          "text": [
            "Epoch 1/10\n",
            "500/500 [==============================] - 90s 174ms/step - loss: 1.3880 - accuracy: 0.4556 - val_loss: 0.8716 - val_accuracy: 0.7080\n",
            "Epoch 2/10\n",
            "500/500 [==============================] - 87s 174ms/step - loss: 0.5724 - accuracy: 0.8104 - val_loss: 0.5768 - val_accuracy: 0.8100\n",
            "Epoch 3/10\n",
            "500/500 [==============================] - 87s 174ms/step - loss: 0.2495 - accuracy: 0.9194 - val_loss: 0.5898 - val_accuracy: 0.8110\n",
            "Epoch 4/10\n",
            "500/500 [==============================] - 122s 245ms/step - loss: 0.1115 - accuracy: 0.9669 - val_loss: 0.6340 - val_accuracy: 0.8175\n",
            "Epoch 5/10\n",
            "500/500 [==============================] - 86s 171ms/step - loss: 0.0769 - accuracy: 0.9781 - val_loss: 0.7174 - val_accuracy: 0.8045\n",
            "Epoch 6/10\n",
            "500/500 [==============================] - 86s 172ms/step - loss: 0.0677 - accuracy: 0.9803 - val_loss: 0.8586 - val_accuracy: 0.7785\n",
            "Epoch 7/10\n",
            "500/500 [==============================] - 85s 169ms/step - loss: 0.0705 - accuracy: 0.9786 - val_loss: 0.9145 - val_accuracy: 0.7690\n",
            "Epoch 8/10\n",
            "500/500 [==============================] - 85s 170ms/step - loss: 0.0594 - accuracy: 0.9824 - val_loss: 0.8550 - val_accuracy: 0.7905\n",
            "Epoch 9/10\n",
            "500/500 [==============================] - 86s 171ms/step - loss: 0.0433 - accuracy: 0.9874 - val_loss: 0.8820 - val_accuracy: 0.7980\n",
            "Epoch 10/10\n",
            "500/500 [==============================] - 85s 170ms/step - loss: 0.0354 - accuracy: 0.9899 - val_loss: 0.9881 - val_accuracy: 0.7810\n"
          ]
        },
        {
          "output_type": "execute_result",
          "data": {
            "text/plain": [
              "<keras.callbacks.History at 0x7f26a9d4e150>"
            ]
          },
          "metadata": {},
          "execution_count": 79
        }
      ]
    },
    {
      "cell_type": "code",
      "source": [
        "%tensorboard --logdir RNN/fit"
      ],
      "metadata": {
        "id": "Ycfg_5CEnKe4"
      },
      "execution_count": null,
      "outputs": []
    },
    {
      "cell_type": "code",
      "source": [
        "yp_RNN=rnn_model.predict(Test_data)"
      ],
      "metadata": {
        "id": "Vp6nLd_ERvXq"
      },
      "execution_count": null,
      "outputs": []
    },
    {
      "cell_type": "markdown",
      "source": [
        "##LSTM"
      ],
      "metadata": {
        "id": "mxs8MnT2o_py"
      }
    },
    {
      "cell_type": "code",
      "source": [
        "LSTM_model = tf.keras.Sequential([\n",
        "                                 \n",
        "  tf.keras.layers.Embedding(input_length=max_sequence,input_dim=vocab_size+1, output_dim=embeddings_dims, mask_zero=True),\n",
        "  tf.keras.layers.LSTM(100, activation='tanh'),\n",
        "  tf.keras.layers.Dense(Num_of_classes, activation='softmax')\n",
        "])\n",
        "\n",
        "LSTM_model.compile(\n",
        "    optimizer=tf.optimizers.Adam(), \n",
        "    loss=tf.losses.SparseCategoricalCrossentropy(),\n",
        "    metrics =['accuracy']\n",
        ")\n",
        "LSTM_model.summary()\n"
      ],
      "metadata": {
        "colab": {
          "base_uri": "https://localhost:8080/"
        },
        "id": "_vggQ4VEo-y3",
        "outputId": "32f07491-3c5e-432f-abd4-c93f7f6fd2ce"
      },
      "execution_count": null,
      "outputs": [
        {
          "output_type": "stream",
          "name": "stdout",
          "text": [
            "Model: \"sequential_13\"\n",
            "_________________________________________________________________\n",
            " Layer (type)                Output Shape              Param #   \n",
            "=================================================================\n",
            " embedding_13 (Embedding)    (None, 64, 100)           1000100   \n",
            "                                                                 \n",
            " lstm_9 (LSTM)               (None, 100)               80400     \n",
            "                                                                 \n",
            " dense_22 (Dense)            (None, 6)                 606       \n",
            "                                                                 \n",
            "=================================================================\n",
            "Total params: 1,081,106\n",
            "Trainable params: 1,081,106\n",
            "Non-trainable params: 0\n",
            "_________________________________________________________________\n"
          ]
        }
      ]
    },
    {
      "cell_type": "code",
      "source": [
        "log_dir = f\"logs_LSTM/fit/{datetime.datetime.now().strftime('%Y%m%d-%H%M%S')}\"\n",
        "tensorboard_callback = tf.keras.callbacks.TensorBoard(log_dir=log_dir, histogram_freq=1)"
      ],
      "metadata": {
        "id": "qbxfls1kptn0"
      },
      "execution_count": null,
      "outputs": []
    },
    {
      "cell_type": "code",
      "source": [
        "LSTM_model.fit(Train_data,epochs=10,validation_data=Test_data,callbacks=[tensorboard_callback])"
      ],
      "metadata": {
        "colab": {
          "base_uri": "https://localhost:8080/"
        },
        "id": "LUAQ_Enmpzyb",
        "outputId": "14728b42-0775-4b90-c79e-6a7ce7ddf579"
      },
      "execution_count": null,
      "outputs": [
        {
          "output_type": "stream",
          "name": "stdout",
          "text": [
            "Epoch 1/10\n",
            "500/500 [==============================] - 20s 27ms/step - loss: 1.0613 - accuracy: 0.6108 - val_loss: 0.4362 - val_accuracy: 0.8710\n",
            "Epoch 2/10\n",
            "500/500 [==============================] - 11s 23ms/step - loss: 0.2644 - accuracy: 0.9124 - val_loss: 0.2704 - val_accuracy: 0.9060\n",
            "Epoch 3/10\n",
            "500/500 [==============================] - 12s 23ms/step - loss: 0.1255 - accuracy: 0.9560 - val_loss: 0.2214 - val_accuracy: 0.9200\n",
            "Epoch 4/10\n",
            "500/500 [==============================] - 11s 23ms/step - loss: 0.0832 - accuracy: 0.9707 - val_loss: 0.2411 - val_accuracy: 0.9180\n",
            "Epoch 5/10\n",
            "500/500 [==============================] - 11s 23ms/step - loss: 0.0577 - accuracy: 0.9800 - val_loss: 0.2526 - val_accuracy: 0.9170\n",
            "Epoch 6/10\n",
            "500/500 [==============================] - 11s 23ms/step - loss: 0.0448 - accuracy: 0.9844 - val_loss: 0.2811 - val_accuracy: 0.9120\n",
            "Epoch 7/10\n",
            "500/500 [==============================] - 11s 23ms/step - loss: 0.0504 - accuracy: 0.9821 - val_loss: 0.2536 - val_accuracy: 0.9190\n",
            "Epoch 8/10\n",
            "500/500 [==============================] - 11s 23ms/step - loss: 0.0409 - accuracy: 0.9858 - val_loss: 0.2826 - val_accuracy: 0.9170\n",
            "Epoch 9/10\n",
            "500/500 [==============================] - 11s 23ms/step - loss: 0.0278 - accuracy: 0.9896 - val_loss: 0.2808 - val_accuracy: 0.9140\n",
            "Epoch 10/10\n",
            "500/500 [==============================] - 11s 23ms/step - loss: 0.0206 - accuracy: 0.9931 - val_loss: 0.2947 - val_accuracy: 0.9145\n"
          ]
        },
        {
          "output_type": "execute_result",
          "data": {
            "text/plain": [
              "<keras.callbacks.History at 0x7f2603b53790>"
            ]
          },
          "metadata": {},
          "execution_count": 85
        }
      ]
    },
    {
      "cell_type": "code",
      "source": [
        "%tensorboard --logdir logs_LSTM/fit"
      ],
      "metadata": {
        "id": "Jq3uBceLqLQh"
      },
      "execution_count": null,
      "outputs": []
    },
    {
      "cell_type": "code",
      "source": [
        "yp_LSTM=LSTM_model.predict(Test_data)"
      ],
      "metadata": {
        "id": "lYfQb-FlSeww"
      },
      "execution_count": null,
      "outputs": []
    },
    {
      "cell_type": "markdown",
      "source": [
        "##Double Layer LSTM "
      ],
      "metadata": {
        "id": "-F_OXUq5weUx"
      }
    },
    {
      "cell_type": "code",
      "source": [
        "Double_LSTM_model = tf.keras.Sequential([\n",
        "                                 \n",
        "  tf.keras.layers.Embedding(input_length=max_sequence,input_dim=vocab_size+1, output_dim=embeddings_dims, mask_zero=True),\n",
        "  tf.keras.layers.LSTM(256,return_sequences=True, activation='tanh'),\n",
        "  tf.keras.layers.LSTM(128, activation='tanh'),\n",
        "  tf.keras.layers.Dense(64, activation=tf.nn.leaky_relu,kernel_initializer=tf.initializers.HeUniform),\n",
        "  # tf.keras.layers.Dense(64, activation='relu'),\n",
        "  tf.keras.layers.Dense(Num_of_classes, activation='softmax')\n",
        "])\n",
        "\n",
        "Double_LSTM_model.compile(\n",
        "    optimizer=tf.optimizers.Adam(), \n",
        "    loss=tf.losses.SparseCategoricalCrossentropy(),\n",
        "    metrics =['accuracy']\n",
        ")\n",
        "Double_LSTM_model.summary()"
      ],
      "metadata": {
        "colab": {
          "base_uri": "https://localhost:8080/"
        },
        "id": "dAaAsm8bqG8n",
        "outputId": "0dd88fc0-cabc-42d8-b2ab-0c0ac7e1b746"
      },
      "execution_count": null,
      "outputs": [
        {
          "output_type": "stream",
          "name": "stdout",
          "text": [
            "Model: \"sequential_14\"\n",
            "_________________________________________________________________\n",
            " Layer (type)                Output Shape              Param #   \n",
            "=================================================================\n",
            " embedding_14 (Embedding)    (None, 64, 100)           1000100   \n",
            "                                                                 \n",
            " lstm_10 (LSTM)              (None, 64, 256)           365568    \n",
            "                                                                 \n",
            " lstm_11 (LSTM)              (None, 128)               197120    \n",
            "                                                                 \n",
            " dense_23 (Dense)            (None, 64)                8256      \n",
            "                                                                 \n",
            " dense_24 (Dense)            (None, 6)                 390       \n",
            "                                                                 \n",
            "=================================================================\n",
            "Total params: 1,571,434\n",
            "Trainable params: 1,571,434\n",
            "Non-trainable params: 0\n",
            "_________________________________________________________________\n"
          ]
        }
      ]
    },
    {
      "cell_type": "code",
      "source": [
        "log_dir = f\"Double_LSTM/fit/{datetime.datetime.now().strftime('%Y%m%d-%H%M%S')}\"\n",
        "tensorboard_callback = tf.keras.callbacks.TensorBoard(log_dir=log_dir, histogram_freq=1)"
      ],
      "metadata": {
        "id": "hlCQPivWqGo-"
      },
      "execution_count": null,
      "outputs": []
    },
    {
      "cell_type": "code",
      "source": [
        "Double_LSTM_model.fit(Train_data,epochs=10,validation_data=Test_data,callbacks=[tensorboard_callback])"
      ],
      "metadata": {
        "colab": {
          "base_uri": "https://localhost:8080/"
        },
        "id": "dvUq9CZJxKPR",
        "outputId": "9d23da7a-dc19-4584-c765-7d3dce66b1ba"
      },
      "execution_count": null,
      "outputs": [
        {
          "output_type": "stream",
          "name": "stdout",
          "text": [
            "Epoch 1/10\n",
            "500/500 [==============================] - 37s 54ms/step - loss: 0.9886 - accuracy: 0.6061 - val_loss: 0.4272 - val_accuracy: 0.8575\n",
            "Epoch 2/10\n",
            "500/500 [==============================] - 24s 47ms/step - loss: 0.2522 - accuracy: 0.9137 - val_loss: 0.2285 - val_accuracy: 0.9160\n",
            "Epoch 3/10\n",
            "500/500 [==============================] - 24s 47ms/step - loss: 0.1352 - accuracy: 0.9453 - val_loss: 0.1900 - val_accuracy: 0.9200\n",
            "Epoch 4/10\n",
            "500/500 [==============================] - 24s 47ms/step - loss: 0.0901 - accuracy: 0.9622 - val_loss: 0.1975 - val_accuracy: 0.9155\n",
            "Epoch 5/10\n",
            "500/500 [==============================] - 24s 47ms/step - loss: 0.0732 - accuracy: 0.9704 - val_loss: 0.2221 - val_accuracy: 0.9215\n",
            "Epoch 6/10\n",
            "500/500 [==============================] - 24s 47ms/step - loss: 0.0623 - accuracy: 0.9756 - val_loss: 0.2184 - val_accuracy: 0.9210\n",
            "Epoch 7/10\n",
            "500/500 [==============================] - 24s 47ms/step - loss: 0.0485 - accuracy: 0.9819 - val_loss: 0.2591 - val_accuracy: 0.9240\n",
            "Epoch 8/10\n",
            "500/500 [==============================] - 24s 47ms/step - loss: 0.0405 - accuracy: 0.9847 - val_loss: 0.2941 - val_accuracy: 0.9180\n",
            "Epoch 9/10\n",
            "500/500 [==============================] - 23s 47ms/step - loss: 0.0362 - accuracy: 0.9859 - val_loss: 0.3016 - val_accuracy: 0.9175\n",
            "Epoch 10/10\n",
            "500/500 [==============================] - 24s 47ms/step - loss: 0.0345 - accuracy: 0.9871 - val_loss: 0.2876 - val_accuracy: 0.9225\n"
          ]
        },
        {
          "output_type": "execute_result",
          "data": {
            "text/plain": [
              "<keras.callbacks.History at 0x7f262e317810>"
            ]
          },
          "metadata": {},
          "execution_count": 89
        }
      ]
    },
    {
      "cell_type": "code",
      "source": [
        "%tensorboard --logdir Double_LSTM/fit"
      ],
      "metadata": {
        "id": "2tsLfnJAxUgw"
      },
      "execution_count": null,
      "outputs": []
    },
    {
      "cell_type": "code",
      "source": [
        "yp_Double_LSTM=Double_LSTM_model.predict(Test_data)"
      ],
      "metadata": {
        "id": "NUlbBAxASoH5"
      },
      "execution_count": null,
      "outputs": []
    },
    {
      "cell_type": "code",
      "source": [
        "!kill 1338"
      ],
      "metadata": {
        "id": "qg4aq3qw1bzH"
      },
      "execution_count": null,
      "outputs": []
    },
    {
      "cell_type": "markdown",
      "source": [
        "##GRU"
      ],
      "metadata": {
        "id": "cWGo4R_x04B5"
      }
    },
    {
      "cell_type": "code",
      "source": [
        "GRU_model = tf.keras.Sequential([\n",
        "                                 \n",
        "  tf.keras.layers.Embedding(input_length=max_sequence,input_dim=vocab_size+1, output_dim=embeddings_dims, mask_zero=True),\n",
        "  tf.keras.layers.GRU(256, activation='tanh',return_sequences=True),\n",
        "  tf.keras.layers.GRU(128, activation='tanh'),\n",
        "  tf.keras.layers.Dense(64, activation=tf.nn.leaky_relu,kernel_initializer=tf.initializers.HeUniform),\n",
        "  \n",
        "  tf.keras.layers.Dense(Num_of_classes, activation='softmax')\n",
        "])\n",
        "\n",
        "GRU_model.compile(\n",
        "    optimizer=tf.optimizers.Adam(), \n",
        "    loss=tf.losses.SparseCategoricalCrossentropy(),\n",
        "    metrics =['accuracy']\n",
        ")\n",
        "GRU_model.summary()"
      ],
      "metadata": {
        "colab": {
          "base_uri": "https://localhost:8080/"
        },
        "id": "4QtulLFPxUbR",
        "outputId": "0f209a47-d2fb-45c1-9351-2076c8eaaff8"
      },
      "execution_count": null,
      "outputs": [
        {
          "output_type": "stream",
          "name": "stdout",
          "text": [
            "Model: \"sequential_15\"\n",
            "_________________________________________________________________\n",
            " Layer (type)                Output Shape              Param #   \n",
            "=================================================================\n",
            " embedding_15 (Embedding)    (None, 64, 100)           1000100   \n",
            "                                                                 \n",
            " gru_12 (GRU)                (None, 64, 256)           274944    \n",
            "                                                                 \n",
            " gru_13 (GRU)                (None, 128)               148224    \n",
            "                                                                 \n",
            " dense_25 (Dense)            (None, 64)                8256      \n",
            "                                                                 \n",
            " dense_26 (Dense)            (None, 6)                 390       \n",
            "                                                                 \n",
            "=================================================================\n",
            "Total params: 1,431,914\n",
            "Trainable params: 1,431,914\n",
            "Non-trainable params: 0\n",
            "_________________________________________________________________\n"
          ]
        }
      ]
    },
    {
      "cell_type": "code",
      "source": [
        "log_dir = f\"GRU/fit/{datetime.datetime.now().strftime('%Y%m%d-%H%M%S')}\"\n",
        "tensorboard_callback = tf.keras.callbacks.TensorBoard(log_dir=log_dir, histogram_freq=1)"
      ],
      "metadata": {
        "id": "kR8FQm0R20yl"
      },
      "execution_count": null,
      "outputs": []
    },
    {
      "cell_type": "code",
      "source": [
        "GRU_model.fit(Train_data,epochs=10,validation_data=Test_data,callbacks=[tensorboard_callback])"
      ],
      "metadata": {
        "colab": {
          "base_uri": "https://localhost:8080/"
        },
        "id": "3h6w1IbgxUV7",
        "outputId": "9011044c-544e-4f27-a8cf-7c913d2044fc"
      },
      "execution_count": null,
      "outputs": [
        {
          "output_type": "stream",
          "name": "stdout",
          "text": [
            "Epoch 1/10\n",
            "500/500 [==============================] - 32s 46ms/step - loss: 0.8071 - accuracy: 0.6919 - val_loss: 0.2223 - val_accuracy: 0.9175\n",
            "Epoch 2/10\n",
            "500/500 [==============================] - 20s 40ms/step - loss: 0.1564 - accuracy: 0.9354 - val_loss: 0.1586 - val_accuracy: 0.9280\n",
            "Epoch 3/10\n",
            "500/500 [==============================] - 20s 40ms/step - loss: 0.1015 - accuracy: 0.9538 - val_loss: 0.1832 - val_accuracy: 0.9225\n",
            "Epoch 4/10\n",
            "500/500 [==============================] - 20s 40ms/step - loss: 0.0850 - accuracy: 0.9618 - val_loss: 0.2012 - val_accuracy: 0.9270\n",
            "Epoch 5/10\n",
            "500/500 [==============================] - 20s 41ms/step - loss: 0.0710 - accuracy: 0.9697 - val_loss: 0.2020 - val_accuracy: 0.9235\n",
            "Epoch 6/10\n",
            "500/500 [==============================] - 20s 41ms/step - loss: 0.0587 - accuracy: 0.9776 - val_loss: 0.2306 - val_accuracy: 0.9220\n",
            "Epoch 7/10\n",
            "500/500 [==============================] - 20s 40ms/step - loss: 0.0468 - accuracy: 0.9822 - val_loss: 0.2831 - val_accuracy: 0.9260\n",
            "Epoch 8/10\n",
            "500/500 [==============================] - 20s 40ms/step - loss: 0.0382 - accuracy: 0.9869 - val_loss: 0.2971 - val_accuracy: 0.9190\n",
            "Epoch 9/10\n",
            "500/500 [==============================] - 20s 40ms/step - loss: 0.0307 - accuracy: 0.9884 - val_loss: 0.3188 - val_accuracy: 0.9175\n",
            "Epoch 10/10\n",
            "500/500 [==============================] - 20s 40ms/step - loss: 0.0273 - accuracy: 0.9899 - val_loss: 0.3257 - val_accuracy: 0.9155\n"
          ]
        },
        {
          "output_type": "execute_result",
          "data": {
            "text/plain": [
              "<keras.callbacks.History at 0x7f25fce74890>"
            ]
          },
          "metadata": {},
          "execution_count": 93
        }
      ]
    },
    {
      "cell_type": "code",
      "source": [
        "%tensorboard --logdir GRU/fit"
      ],
      "metadata": {
        "id": "R329u8RS32BX"
      },
      "execution_count": null,
      "outputs": []
    },
    {
      "cell_type": "code",
      "source": [
        "yp_GRU=GRU_model.predict(Test_data)"
      ],
      "metadata": {
        "id": "qmnpWjNN311J"
      },
      "execution_count": null,
      "outputs": []
    },
    {
      "cell_type": "code",
      "source": [
        ""
      ],
      "metadata": {
        "id": "BgejIphg02_E"
      },
      "execution_count": null,
      "outputs": []
    },
    {
      "cell_type": "code",
      "source": [
        ""
      ],
      "metadata": {
        "id": "ymXB2yDB0279"
      },
      "execution_count": null,
      "outputs": []
    },
    {
      "cell_type": "markdown",
      "source": [
        "simple test"
      ],
      "metadata": {
        "id": "tgb6OaZUsaG2"
      }
    },
    {
      "cell_type": "code",
      "source": [
        "np.argmax(rnn_model.predict(tf.expand_dims(X_test_padd[68], axis=0)))"
      ],
      "metadata": {
        "colab": {
          "base_uri": "https://localhost:8080/"
        },
        "id": "r4kzrRte-A0Q",
        "outputId": "349e87d1-f3aa-4015-df1c-ce27eb9f6361"
      },
      "execution_count": null,
      "outputs": [
        {
          "output_type": "execute_result",
          "data": {
            "text/plain": [
              "0"
            ]
          },
          "metadata": {},
          "execution_count": 118
        }
      ]
    },
    {
      "cell_type": "code",
      "source": [
        "Y_test[68]"
      ],
      "metadata": {
        "colab": {
          "base_uri": "https://localhost:8080/"
        },
        "id": "LkLiyEnc_ImU",
        "outputId": "a4722d7a-164c-48ac-b202-598087a67dd1"
      },
      "execution_count": null,
      "outputs": [
        {
          "output_type": "execute_result",
          "data": {
            "text/plain": [
              "0"
            ]
          },
          "metadata": {},
          "execution_count": 119
        }
      ]
    },
    {
      "cell_type": "code",
      "source": [
        "np.argmax(yp_RNN,axis=1)"
      ],
      "metadata": {
        "colab": {
          "base_uri": "https://localhost:8080/"
        },
        "id": "im-eWE9jbhD8",
        "outputId": "f46a6b07-3d3b-401b-b3cf-1e70181ce2ea"
      },
      "execution_count": null,
      "outputs": [
        {
          "output_type": "execute_result",
          "data": {
            "text/plain": [
              "array([1, 5, 0, ..., 3, 0, 2])"
            ]
          },
          "metadata": {},
          "execution_count": 117
        }
      ]
    },
    {
      "cell_type": "markdown",
      "source": [
        "## Plot the models metrics"
      ],
      "metadata": {
        "id": "DEcrMT9dr80j"
      }
    },
    {
      "cell_type": "code",
      "source": [
        "# write your code below\n",
        "# evaluate the model\n",
        "\n",
        "\n",
        "plt.figure(figsize=(20,20))\n",
        "plt.subplot(2,3,1)\n",
        "plt.title('DNN with Embedding Confusion Matrix')\n",
        "CM1=metrics.confusion_matrix(Y_test, np.argmax(yp_DNN_with_E,axis=1))  \n",
        "sns.heatmap(CM1, annot=True)\n",
        "\n",
        "plt.subplot(2,3,2)\n",
        "plt.title('RNN Confusion Matrix')\n",
        "CM2=metrics.confusion_matrix(Y_test,np.argmax(yp_RNN,axis=1))  \n",
        "sns.heatmap(CM2, annot=True)\n",
        "\n",
        "plt.subplot(2,3,3)\n",
        "plt.title('LSTM Confusion Matrix')\n",
        "CM3=metrics.confusion_matrix(Y_test,np.argmax(yp_LSTM,axis=1))  \n",
        "sns.heatmap(CM3, annot=True)\n",
        "\n",
        "plt.subplot(2,3,4)\n",
        "plt.title('Double LSTM Confusion Matrix')\n",
        "CM4=metrics.confusion_matrix(Y_test, np.argmax(yp_Double_LSTM,axis=1))  \n",
        "sns.heatmap(CM4, annot=True)\n",
        "\n",
        "plt.subplot(2,3,5)\n",
        "plt.title('GRU Confusion Matrix')\n",
        "CM5=metrics.confusion_matrix(Y_test,np.argmax(yp_GRU,axis=1))  \n",
        "sns.heatmap(CM5, annot=True)"
      ],
      "metadata": {
        "id": "cEe01uLnrFOr",
        "colab": {
          "base_uri": "https://localhost:8080/",
          "height": 1000
        },
        "outputId": "d7928c6a-69a1-470f-ea35-31945aa7721f"
      },
      "execution_count": null,
      "outputs": [
        {
          "output_type": "execute_result",
          "data": {
            "text/plain": [
              "<matplotlib.axes._subplots.AxesSubplot at 0x7f25f7319090>"
            ]
          },
          "metadata": {},
          "execution_count": 113
        },
        {
          "output_type": "display_data",
          "data": {
            "image/png": "[encoded data removed]",
            "text/plain": [
              "<Figure size 1440x1440 with 10 Axes>"
            ]
          },
          "metadata": {
            "needs_background": "light"
          }
        }
      ]
    },
    {
      "cell_type": "code",
      "source": [
        "Allms={'Accuracy':[DNN_with_E.evaluate(X_test_padd,Y_test,verbose=0)[1],rnn_model.evaluate(X_test_padd,Y_test,verbose=0)[1],LSTM_model.evaluate(X_test_padd,Y_test,verbose=0)[1],Double_LSTM_model.evaluate(X_test_padd,Y_test,verbose=0)[1],GRU_model.evaluate(X_test_padd,Y_test,verbose=0)[1]],\n",
        "       'F1-macro':[metrics.f1_score(Y_test,np.argmax(yp_DNN_with_E,axis=1),average='macro'),metrics.f1_score(Y_test,np.argmax(yp_RNN,axis=1),average='macro'),metrics.f1_score(Y_test,np.argmax(yp_LSTM,axis=1),average='macro'),metrics.f1_score(Y_test,np.argmax(yp_Double_LSTM,axis=1),average='macro'),metrics.f1_score(Y_test,np.argmax(yp_GRU,axis=1),average='macro')],\n",
        "       'F1-micro':[metrics.f1_score(Y_test,np.argmax(yp_DNN_with_E,axis=1),average='micro'),metrics.f1_score(Y_test,np.argmax(yp_RNN,axis=1),average='micro'),metrics.f1_score(Y_test,np.argmax(yp_LSTM,axis=1),average='micro'),metrics.f1_score(Y_test,np.argmax(yp_Double_LSTM,axis=1),average='micro'),metrics.f1_score(Y_test,np.argmax(yp_GRU,axis=1),average='micro')],\n",
        "       'F1-weighted':[metrics.f1_score(Y_test,np.argmax(yp_DNN_with_E,axis=1),average='weighted'),metrics.f1_score(Y_test,np.argmax(yp_RNN,axis=1),average='weighted'),metrics.f1_score(Y_test,np.argmax(yp_LSTM,axis=1),average='weighted'),metrics.f1_score(Y_test,np.argmax(yp_Double_LSTM,axis=1),average='weighted'),metrics.f1_score(Y_test,np.argmax(yp_GRU,axis=1),average='weighted')]\n",
        "       }\n",
        "\n",
        "Met_DF=pd.DataFrame(Allms,index=['DNN with Embedding','RNN','LSTM','Double LSTM','GRU'])\n",
        "Met_DF"
      ],
      "metadata": {
        "colab": {
          "base_uri": "https://localhost:8080/",
          "height": 206
        },
        "id": "G_djjTC1bSbC",
        "outputId": "fdf4e00f-aa07-46d1-9542-e9a74f0f566f"
      },
      "execution_count": null,
      "outputs": [
        {
          "output_type": "execute_result",
          "data": {
            "text/html": [
              "\n",
              "  <div id=\"df-842d488b-884c-4a31-b6b7-45500b9288b9\">\n",
              "    <div class=\"colab-df-container\">\n",
              "      <div>\n",
              "<style scoped>\n",
              "    .dataframe tbody tr th:only-of-type {\n",
              "        vertical-align: middle;\n",
              "    }\n",
              "\n",
              "    .dataframe tbody tr th {\n",
              "        vertical-align: top;\n",
              "    }\n",
              "\n",
              "    .dataframe thead th {\n",
              "        text-align: right;\n",
              "    }\n",
              "</style>\n",
              "<table border=\"1\" class=\"dataframe\">\n",
              "  <thead>\n",
              "    <tr style=\"text-align: right;\">\n",
              "      <th></th>\n",
              "      <th>Accuracy</th>\n",
              "      <th>F1-macro</th>\n",
              "      <th>F1-micro</th>\n",
              "      <th>F1-weighted</th>\n",
              "    </tr>\n",
              "  </thead>\n",
              "  <tbody>\n",
              "    <tr>\n",
              "      <th>DNN with Embedding</th>\n",
              "      <td>0.8195</td>\n",
              "      <td>0.166528</td>\n",
              "      <td>0.2510</td>\n",
              "      <td>0.245828</td>\n",
              "    </tr>\n",
              "    <tr>\n",
              "      <th>RNN</th>\n",
              "      <td>0.7810</td>\n",
              "      <td>0.163609</td>\n",
              "      <td>0.2480</td>\n",
              "      <td>0.245071</td>\n",
              "    </tr>\n",
              "    <tr>\n",
              "      <th>LSTM</th>\n",
              "      <td>0.9145</td>\n",
              "      <td>0.166548</td>\n",
              "      <td>0.2495</td>\n",
              "      <td>0.250642</td>\n",
              "    </tr>\n",
              "    <tr>\n",
              "      <th>Double LSTM</th>\n",
              "      <td>0.9225</td>\n",
              "      <td>0.169428</td>\n",
              "      <td>0.2395</td>\n",
              "      <td>0.239587</td>\n",
              "    </tr>\n",
              "    <tr>\n",
              "      <th>GRU</th>\n",
              "      <td>0.9155</td>\n",
              "      <td>0.177509</td>\n",
              "      <td>0.2525</td>\n",
              "      <td>0.251659</td>\n",
              "    </tr>\n",
              "  </tbody>\n",
              "</table>\n",
              "</div>\n",
              "      <button class=\"colab-df-convert\" onclick=\"convertToInteractive('df-842d488b-884c-4a31-b6b7-45500b9288b9')\"\n",
              "              title=\"Convert this dataframe to an interactive table.\"\n",
              "              style=\"display:none;\">\n",
              "        \n",
              "  <svg xmlns=\"http://www.w3.org/2000/svg\" height=\"24px\"viewBox=\"0 0 24 24\"\n",
              "       width=\"24px\">\n",
              "    <path d=\"M0 0h24v24H0V0z\" fill=\"none\"/>\n",
              "    <path d=\"M18.56 5.44l.94 2.06.94-2.06 2.06-.94-2.06-.94-.94-2.06-.94 2.06-2.06.94zm-11 1L8.5 8.5l.94-2.06 2.06-.94-2.06-.94L8.5 2.5l-.94 2.06-2.06.94zm10 10l.94 2.06.94-2.06 2.06-.94-2.06-.94-.94-2.06-.94 2.06-2.06.94z\"/><path d=\"M17.41 7.96l-1.37-1.37c-.4-.4-.92-.59-1.43-.59-.52 0-1.04.2-1.43.59L10.3 9.45l-7.72 7.72c-.78.78-.78 2.05 0 2.83L4 21.41c.39.39.9.59 1.41.59.51 0 1.02-.2 1.41-.59l7.78-7.78 2.81-2.81c.8-.78.8-2.07 0-2.86zM5.41 20L4 18.59l7.72-7.72 1.47 1.35L5.41 20z\"/>\n",
              "  </svg>\n",
              "      </button>\n",
              "      \n",
              "  <style>\n",
              "    .colab-df-container {\n",
              "      display:flex;\n",
              "      flex-wrap:wrap;\n",
              "      gap: 12px;\n",
              "    }\n",
              "\n",
              "    .colab-df-convert {\n",
              "      background-color: #E8F0FE;\n",
              "      border: none;\n",
              "      border-radius: 50%;\n",
              "      cursor: pointer;\n",
              "      display: none;\n",
              "      fill: #1967D2;\n",
              "      height: 32px;\n",
              "      padding: 0 0 0 0;\n",
              "      width: 32px;\n",
              "    }\n",
              "\n",
              "    .colab-df-convert:hover {\n",
              "      background-color: #E2EBFA;\n",
              "      box-shadow: 0px 1px 2px rgba(60, 64, 67, 0.3), 0px 1px 3px 1px rgba(60, 64, 67, 0.15);\n",
              "      fill: #174EA6;\n",
              "    }\n",
              "\n",
              "    [theme=dark] .colab-df-convert {\n",
              "      background-color: #3B4455;\n",
              "      fill: #D2E3FC;\n",
              "    }\n",
              "\n",
              "    [theme=dark] .colab-df-convert:hover {\n",
              "      background-color: #434B5C;\n",
              "      box-shadow: 0px 1px 3px 1px rgba(0, 0, 0, 0.15);\n",
              "      filter: drop-shadow(0px 1px 2px rgba(0, 0, 0, 0.3));\n",
              "      fill: #FFFFFF;\n",
              "    }\n",
              "  </style>\n",
              "\n",
              "      <script>\n",
              "        const buttonEl =\n",
              "          document.querySelector('#df-842d488b-884c-4a31-b6b7-45500b9288b9 button.colab-df-convert');\n",
              "        buttonEl.style.display =\n",
              "          google.colab.kernel.accessAllowed ? 'block' : 'none';\n",
              "\n",
              "        async function convertToInteractive(key) {\n",
              "          const element = document.querySelector('#df-842d488b-884c-4a31-b6b7-45500b9288b9');\n",
              "          const dataTable =\n",
              "            await google.colab.kernel.invokeFunction('convertToInteractive',\n",
              "                                                     [key], {});\n",
              "          if (!dataTable) return;\n",
              "\n",
              "          const docLinkHtml = 'Like what you see? Visit the ' +\n",
              "            '<a target=\"_blank\" href=https://colab.research.google.com/notebooks/data_table.ipynb>data table notebook</a>'\n",
              "            + ' to learn more about interactive tables.';\n",
              "          element.innerHTML = '';\n",
              "          dataTable['output_type'] = 'display_data';\n",
              "          await google.colab.output.renderOutput(dataTable, element);\n",
              "          const docLink = document.createElement('div');\n",
              "          docLink.innerHTML = docLinkHtml;\n",
              "          element.appendChild(docLink);\n",
              "        }\n",
              "      </script>\n",
              "    </div>\n",
              "  </div>\n",
              "  "
            ],
            "text/plain": [
              "                    Accuracy  F1-macro  F1-micro  F1-weighted\n",
              "DNN with Embedding    0.8195  0.166528    0.2510     0.245828\n",
              "RNN                   0.7810  0.163609    0.2480     0.245071\n",
              "LSTM                  0.9145  0.166548    0.2495     0.250642\n",
              "Double LSTM           0.9225  0.169428    0.2395     0.239587\n",
              "GRU                   0.9155  0.177509    0.2525     0.251659"
            ]
          },
          "metadata": {},
          "execution_count": 116
        }
      ]
    },
    {
      "cell_type": "markdown",
      "source": [
        "##Results\n",
        "Based on the accuracy and F1 score, sketches of tuning with tensorboard, supported by its cofusion matrix, the best model is the **Double LSTM**."
      ],
      "metadata": {
        "id": "eVCHsFTa1SaH"
      }
    }
  ]
}