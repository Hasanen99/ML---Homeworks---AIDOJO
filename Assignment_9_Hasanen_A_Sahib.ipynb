{
  "nbformat": 4,
  "nbformat_minor": 0,
  "metadata": {
    "colab": {
      "name": "Assignment 9: Hasanen A. Sahib",
      "provenance": [],
      "collapsed_sections": [],
      "toc_visible": true,
      "include_colab_link": true
    },
    "kernelspec": {
      "name": "python3",
      "display_name": "Python 3"
    },
    "language_info": {
      "name": "python"
    }
  },
  "cells": [
    {
      "cell_type": "markdown",
      "metadata": {
        "id": "view-in-github",
        "colab_type": "text"
      },
      "source": [
        "<a href=\"https://colab.research.google.com/github/Hasanen99/ML-Homeworks-AIDOJO/blob/main/Assignment_9_Hasanen_A_Sahib.ipynb\" target=\"_parent\"><img src=\"https://colab.research.google.com/assets/colab-badge.svg\" alt=\"Open In Colab\"/></a>"
      ]
    },
    {
      "cell_type": "markdown",
      "source": [
        "#Assignment 09: More Advanced DL Applications\n",
        "\n",
        "This Week's assignment is to train forecasting model on the `Daily Temperature Data`.\n",
        "\n",
        "Before starting copy this file and work on your own copy by following the below steps: <br>\n",
        "`File > Save Copy in Drive`. Then add your name to the file (e.g., Assignment 09: More Advanced DL Applications - Zahraa Dhafer).\n",
        "<br><br>\n",
        "**Submission Deadline: Saturday, 3/19/2022 at 3:00 PM**\n",
        "\n",
        "**Requirements:**\n",
        "\n",
        "1. Import all necessary libraries.\n",
        "2. Download the dataset (the link is provided below).\n",
        "3. Read data from CSV file.\n",
        "4. Prepare the data:\n",
        "*   Use the data from Spain using the query method in the Country column.\n",
        "*   Drop the columns that are not required.\n",
        "*   Normalize the dataset.\n",
        "*   Plot the histogram of the dataset before and after the normalization.\n",
        "<br>\n",
        "5. Create the time series dataset using Time Series Data Generator.\n",
        "6. Create data from the generator and split the data into training and testing.\n",
        "7. Make sure the data shape is (batch_size,length,1) and the target shape is (batch_size,1).\n",
        "8. Get the max value of the dataset.\n",
        "9. Create the Data Pipeline.\n",
        "10. Create the Forecasting Model.<br>\n",
        "11. Plot the model prediction.\n",
        "**Note**: Use Adam optimizer and the appropriate loss function.\n",
        "\n",
        "\n",
        "**Note:** To get the best performance from the model, manually tune the hyperparameters of the model. \n",
        "\n",
        "Find relevant links below:<br>\n",
        "\n",
        "[Assignment Colab File](https://colab.research.google.com/drive/1OfPmlyGP-1gy_2pfErdQMTtAvCY1jgy-?usp=sharing)<br>\n",
        "\n",
        "[Dataset](https://www.kaggle.com/sudalairajkumar/daily-temperature-of-major-cities)\n",
        "\n",
        "[Submission Form](https://docs.google.com/forms/d/e/1FAIpQLSdFXlEVjD1HPK_DMBbXjJ6XERmAVUpfqX9n-b0nFuCT9HpjYQ/viewform?usp=pp_url)<br>\n",
        "\n",
        "\n",
        "Good luck and feel free to ask any questions in the or on the Questions channel."
      ],
      "metadata": {
        "id": "AU78WMPocdFw"
      }
    },
    {
      "cell_type": "markdown",
      "source": [
        "##1- Import all necessary libraries"
      ],
      "metadata": {
        "id": "WLlbXsj3kX0W"
      }
    },
    {
      "cell_type": "code",
      "source": [
        "# write your code below\n",
        "from sklearn import preprocessing\n",
        "import pandas as pd\n",
        "import numpy as np\n",
        "from sklearn import model_selection\n",
        "import tensorflow as tf\n",
        "import matplotlib.pyplot as plt"
      ],
      "metadata": {
        "id": "WnvxNyHWV9CZ"
      },
      "execution_count": null,
      "outputs": []
    },
    {
      "cell_type": "markdown",
      "source": [
        "##2- Download the dataset"
      ],
      "metadata": {
        "id": "flCu563UkjrX"
      }
    },
    {
      "cell_type": "code",
      "source": [
        "# write your code below\n",
        "! mkdir ~/.kaggle\n",
        "! cp kaggle.json ~/.kaggle/\n",
        "! chmod 600 ~/.kaggle/kaggle.json\n",
        "! kaggle datasets download -d sudalairajkumar/daily-temperature-of-major-cities"
      ],
      "metadata": {
        "id": "aFMfs_xYkjBm",
        "colab": {
          "base_uri": "https://localhost:8080/"
        },
        "outputId": "5d803596-7ec2-44b2-92db-cad5882e9815"
      },
      "execution_count": null,
      "outputs": [
        {
          "output_type": "stream",
          "name": "stdout",
          "text": [
            "Downloading daily-temperature-of-major-cities.zip to /content\n",
            "\r  0% 0.00/12.9M [00:00<?, ?B/s]\r 70% 9.00M/12.9M [00:00<00:00, 93.4MB/s]\n",
            "\r100% 12.9M/12.9M [00:00<00:00, 115MB/s] \n"
          ]
        }
      ]
    },
    {
      "cell_type": "code",
      "source": [
        "!unzip /content/daily-temperature-of-major-cities.zip"
      ],
      "metadata": {
        "colab": {
          "base_uri": "https://localhost:8080/"
        },
        "id": "D1aTDyUl9tVl",
        "outputId": "9ac125fa-f07d-4dc2-86e6-4c98c4f75660"
      },
      "execution_count": null,
      "outputs": [
        {
          "output_type": "stream",
          "name": "stdout",
          "text": [
            "Archive:  /content/daily-temperature-of-major-cities.zip\n",
            "  inflating: city_temperature.csv    \n"
          ]
        }
      ]
    },
    {
      "cell_type": "markdown",
      "source": [
        "##3- Read data from CSV file"
      ],
      "metadata": {
        "id": "v1tUezw1kzFl"
      }
    },
    {
      "cell_type": "code",
      "source": [
        "# write your code below\n",
        "\n",
        "DF=pd.read_csv('/content/city_temperature.csv')\n",
        "DF"
      ],
      "metadata": {
        "colab": {
          "base_uri": "https://localhost:8080/",
          "height": 478
        },
        "id": "RCmySzUX9xhN",
        "outputId": "0acb7361-b8b8-4403-8f74-10c6b4ff6f96"
      },
      "execution_count": null,
      "outputs": [
        {
          "output_type": "stream",
          "name": "stderr",
          "text": [
            "/usr/local/lib/python3.7/dist-packages/IPython/core/interactiveshell.py:2882: DtypeWarning: Columns (2) have mixed types.Specify dtype option on import or set low_memory=False.\n",
            "  exec(code_obj, self.user_global_ns, self.user_ns)\n"
          ]
        },
        {
          "output_type": "execute_result",
          "data": {
            "text/plain": [
              "                Region  Country                   State                  City  \\\n",
              "0               Africa  Algeria                     NaN               Algiers   \n",
              "1               Africa  Algeria                     NaN               Algiers   \n",
              "2               Africa  Algeria                     NaN               Algiers   \n",
              "3               Africa  Algeria                     NaN               Algiers   \n",
              "4               Africa  Algeria                     NaN               Algiers   \n",
              "...                ...      ...                     ...                   ...   \n",
              "2906322  North America       US  Additional Territories  San Juan Puerto Rico   \n",
              "2906323  North America       US  Additional Territories  San Juan Puerto Rico   \n",
              "2906324  North America       US  Additional Territories  San Juan Puerto Rico   \n",
              "2906325  North America       US  Additional Territories  San Juan Puerto Rico   \n",
              "2906326  North America       US  Additional Territories  San Juan Puerto Rico   \n",
              "\n",
              "         Month  Day  Year  AvgTemperature  \n",
              "0            1    1  1995            64.2  \n",
              "1            1    2  1995            49.4  \n",
              "2            1    3  1995            48.8  \n",
              "3            1    4  1995            46.4  \n",
              "4            1    5  1995            47.9  \n",
              "...        ...  ...   ...             ...  \n",
              "2906322      7   27  2013            82.4  \n",
              "2906323      7   28  2013            81.6  \n",
              "2906324      7   29  2013            84.2  \n",
              "2906325      7   30  2013            83.8  \n",
              "2906326      7   31  2013            83.6  \n",
              "\n",
              "[2906327 rows x 8 columns]"
            ],
            "text/html": [
              "\n",
              "  <div id=\"df-853114d1-f347-47c7-b745-5d8db75d5572\">\n",
              "    <div class=\"colab-df-container\">\n",
              "      <div>\n",
              "<style scoped>\n",
              "    .dataframe tbody tr th:only-of-type {\n",
              "        vertical-align: middle;\n",
              "    }\n",
              "\n",
              "    .dataframe tbody tr th {\n",
              "        vertical-align: top;\n",
              "    }\n",
              "\n",
              "    .dataframe thead th {\n",
              "        text-align: right;\n",
              "    }\n",
              "</style>\n",
              "<table border=\"1\" class=\"dataframe\">\n",
              "  <thead>\n",
              "    <tr style=\"text-align: right;\">\n",
              "      <th></th>\n",
              "      <th>Region</th>\n",
              "      <th>Country</th>\n",
              "      <th>State</th>\n",
              "      <th>City</th>\n",
              "      <th>Month</th>\n",
              "      <th>Day</th>\n",
              "      <th>Year</th>\n",
              "      <th>AvgTemperature</th>\n",
              "    </tr>\n",
              "  </thead>\n",
              "  <tbody>\n",
              "    <tr>\n",
              "      <th>0</th>\n",
              "      <td>Africa</td>\n",
              "      <td>Algeria</td>\n",
              "      <td>NaN</td>\n",
              "      <td>Algiers</td>\n",
              "      <td>1</td>\n",
              "      <td>1</td>\n",
              "      <td>1995</td>\n",
              "      <td>64.2</td>\n",
              "    </tr>\n",
              "    <tr>\n",
              "      <th>1</th>\n",
              "      <td>Africa</td>\n",
              "      <td>Algeria</td>\n",
              "      <td>NaN</td>\n",
              "      <td>Algiers</td>\n",
              "      <td>1</td>\n",
              "      <td>2</td>\n",
              "      <td>1995</td>\n",
              "      <td>49.4</td>\n",
              "    </tr>\n",
              "    <tr>\n",
              "      <th>2</th>\n",
              "      <td>Africa</td>\n",
              "      <td>Algeria</td>\n",
              "      <td>NaN</td>\n",
              "      <td>Algiers</td>\n",
              "      <td>1</td>\n",
              "      <td>3</td>\n",
              "      <td>1995</td>\n",
              "      <td>48.8</td>\n",
              "    </tr>\n",
              "    <tr>\n",
              "      <th>3</th>\n",
              "      <td>Africa</td>\n",
              "      <td>Algeria</td>\n",
              "      <td>NaN</td>\n",
              "      <td>Algiers</td>\n",
              "      <td>1</td>\n",
              "      <td>4</td>\n",
              "      <td>1995</td>\n",
              "      <td>46.4</td>\n",
              "    </tr>\n",
              "    <tr>\n",
              "      <th>4</th>\n",
              "      <td>Africa</td>\n",
              "      <td>Algeria</td>\n",
              "      <td>NaN</td>\n",
              "      <td>Algiers</td>\n",
              "      <td>1</td>\n",
              "      <td>5</td>\n",
              "      <td>1995</td>\n",
              "      <td>47.9</td>\n",
              "    </tr>\n",
              "    <tr>\n",
              "      <th>...</th>\n",
              "      <td>...</td>\n",
              "      <td>...</td>\n",
              "      <td>...</td>\n",
              "      <td>...</td>\n",
              "      <td>...</td>\n",
              "      <td>...</td>\n",
              "      <td>...</td>\n",
              "      <td>...</td>\n",
              "    </tr>\n",
              "    <tr>\n",
              "      <th>2906322</th>\n",
              "      <td>North America</td>\n",
              "      <td>US</td>\n",
              "      <td>Additional Territories</td>\n",
              "      <td>San Juan Puerto Rico</td>\n",
              "      <td>7</td>\n",
              "      <td>27</td>\n",
              "      <td>2013</td>\n",
              "      <td>82.4</td>\n",
              "    </tr>\n",
              "    <tr>\n",
              "      <th>2906323</th>\n",
              "      <td>North America</td>\n",
              "      <td>US</td>\n",
              "      <td>Additional Territories</td>\n",
              "      <td>San Juan Puerto Rico</td>\n",
              "      <td>7</td>\n",
              "      <td>28</td>\n",
              "      <td>2013</td>\n",
              "      <td>81.6</td>\n",
              "    </tr>\n",
              "    <tr>\n",
              "      <th>2906324</th>\n",
              "      <td>North America</td>\n",
              "      <td>US</td>\n",
              "      <td>Additional Territories</td>\n",
              "      <td>San Juan Puerto Rico</td>\n",
              "      <td>7</td>\n",
              "      <td>29</td>\n",
              "      <td>2013</td>\n",
              "      <td>84.2</td>\n",
              "    </tr>\n",
              "    <tr>\n",
              "      <th>2906325</th>\n",
              "      <td>North America</td>\n",
              "      <td>US</td>\n",
              "      <td>Additional Territories</td>\n",
              "      <td>San Juan Puerto Rico</td>\n",
              "      <td>7</td>\n",
              "      <td>30</td>\n",
              "      <td>2013</td>\n",
              "      <td>83.8</td>\n",
              "    </tr>\n",
              "    <tr>\n",
              "      <th>2906326</th>\n",
              "      <td>North America</td>\n",
              "      <td>US</td>\n",
              "      <td>Additional Territories</td>\n",
              "      <td>San Juan Puerto Rico</td>\n",
              "      <td>7</td>\n",
              "      <td>31</td>\n",
              "      <td>2013</td>\n",
              "      <td>83.6</td>\n",
              "    </tr>\n",
              "  </tbody>\n",
              "</table>\n",
              "<p>2906327 rows × 8 columns</p>\n",
              "</div>\n",
              "      <button class=\"colab-df-convert\" onclick=\"convertToInteractive('df-853114d1-f347-47c7-b745-5d8db75d5572')\"\n",
              "              title=\"Convert this dataframe to an interactive table.\"\n",
              "              style=\"display:none;\">\n",
              "        \n",
              "  <svg xmlns=\"http://www.w3.org/2000/svg\" height=\"24px\"viewBox=\"0 0 24 24\"\n",
              "       width=\"24px\">\n",
              "    <path d=\"M0 0h24v24H0V0z\" fill=\"none\"/>\n",
              "    <path d=\"M18.56 5.44l.94 2.06.94-2.06 2.06-.94-2.06-.94-.94-2.06-.94 2.06-2.06.94zm-11 1L8.5 8.5l.94-2.06 2.06-.94-2.06-.94L8.5 2.5l-.94 2.06-2.06.94zm10 10l.94 2.06.94-2.06 2.06-.94-2.06-.94-.94-2.06-.94 2.06-2.06.94z\"/><path d=\"M17.41 7.96l-1.37-1.37c-.4-.4-.92-.59-1.43-.59-.52 0-1.04.2-1.43.59L10.3 9.45l-7.72 7.72c-.78.78-.78 2.05 0 2.83L4 21.41c.39.39.9.59 1.41.59.51 0 1.02-.2 1.41-.59l7.78-7.78 2.81-2.81c.8-.78.8-2.07 0-2.86zM5.41 20L4 18.59l7.72-7.72 1.47 1.35L5.41 20z\"/>\n",
              "  </svg>\n",
              "      </button>\n",
              "      \n",
              "  <style>\n",
              "    .colab-df-container {\n",
              "      display:flex;\n",
              "      flex-wrap:wrap;\n",
              "      gap: 12px;\n",
              "    }\n",
              "\n",
              "    .colab-df-convert {\n",
              "      background-color: #E8F0FE;\n",
              "      border: none;\n",
              "      border-radius: 50%;\n",
              "      cursor: pointer;\n",
              "      display: none;\n",
              "      fill: #1967D2;\n",
              "      height: 32px;\n",
              "      padding: 0 0 0 0;\n",
              "      width: 32px;\n",
              "    }\n",
              "\n",
              "    .colab-df-convert:hover {\n",
              "      background-color: #E2EBFA;\n",
              "      box-shadow: 0px 1px 2px rgba(60, 64, 67, 0.3), 0px 1px 3px 1px rgba(60, 64, 67, 0.15);\n",
              "      fill: #174EA6;\n",
              "    }\n",
              "\n",
              "    [theme=dark] .colab-df-convert {\n",
              "      background-color: #3B4455;\n",
              "      fill: #D2E3FC;\n",
              "    }\n",
              "\n",
              "    [theme=dark] .colab-df-convert:hover {\n",
              "      background-color: #434B5C;\n",
              "      box-shadow: 0px 1px 3px 1px rgba(0, 0, 0, 0.15);\n",
              "      filter: drop-shadow(0px 1px 2px rgba(0, 0, 0, 0.3));\n",
              "      fill: #FFFFFF;\n",
              "    }\n",
              "  </style>\n",
              "\n",
              "      <script>\n",
              "        const buttonEl =\n",
              "          document.querySelector('#df-853114d1-f347-47c7-b745-5d8db75d5572 button.colab-df-convert');\n",
              "        buttonEl.style.display =\n",
              "          google.colab.kernel.accessAllowed ? 'block' : 'none';\n",
              "\n",
              "        async function convertToInteractive(key) {\n",
              "          const element = document.querySelector('#df-853114d1-f347-47c7-b745-5d8db75d5572');\n",
              "          const dataTable =\n",
              "            await google.colab.kernel.invokeFunction('convertToInteractive',\n",
              "                                                     [key], {});\n",
              "          if (!dataTable) return;\n",
              "\n",
              "          const docLinkHtml = 'Like what you see? Visit the ' +\n",
              "            '<a target=\"_blank\" href=https://colab.research.google.com/notebooks/data_table.ipynb>data table notebook</a>'\n",
              "            + ' to learn more about interactive tables.';\n",
              "          element.innerHTML = '';\n",
              "          dataTable['output_type'] = 'display_data';\n",
              "          await google.colab.output.renderOutput(dataTable, element);\n",
              "          const docLink = document.createElement('div');\n",
              "          docLink.innerHTML = docLinkHtml;\n",
              "          element.appendChild(docLink);\n",
              "        }\n",
              "      </script>\n",
              "    </div>\n",
              "  </div>\n",
              "  "
            ]
          },
          "metadata": {},
          "execution_count": 51
        }
      ]
    },
    {
      "cell_type": "code",
      "source": [
        "print(f\"Number of countries: {len(set(DF['Country']))} \")"
      ],
      "metadata": {
        "colab": {
          "base_uri": "https://localhost:8080/"
        },
        "id": "g7x-Bg0A-h6w",
        "outputId": "cad57bff-6ad7-41ab-db12-7ff8af0b10fb"
      },
      "execution_count": null,
      "outputs": [
        {
          "output_type": "stream",
          "name": "stdout",
          "text": [
            "Number of countries: 125 \n"
          ]
        }
      ]
    },
    {
      "cell_type": "markdown",
      "source": [
        "##4- Prepare the data\n",
        "\n",
        "\n",
        "\n",
        "*   Use the data from Spain using the query method in the Country column.\n",
        "*   Drop the columns that are not required.\n",
        "*   Normalize the datase.\n",
        "*   Plot the histagram of the dataset before and after the normalization."
      ],
      "metadata": {
        "id": "1AARFLKBk5Dj"
      }
    },
    {
      "cell_type": "code",
      "source": [
        "# write your code below\n",
        "Temp=DF[DF['Country']=='Spain']['AvgTemperature']\n",
        "Temp.plot() #Befor Normalization"
      ],
      "metadata": {
        "id": "YFcx0j7WlMz5",
        "colab": {
          "base_uri": "https://localhost:8080/",
          "height": 283
        },
        "outputId": "c61a0c76-2675-4fb0-fe81-a15a7226ab96"
      },
      "execution_count": null,
      "outputs": [
        {
          "output_type": "execute_result",
          "data": {
            "text/plain": [
              "<matplotlib.axes._subplots.AxesSubplot at 0x7f644343b8d0>"
            ]
          },
          "metadata": {},
          "execution_count": 53
        },
        {
          "output_type": "display_data",
          "data": {
            "text/plain": [
              "<Figure size 432x288 with 1 Axes>"
            ],
            "image/png": "[encoded data removed]"
          },
          "metadata": {
            "needs_background": "light"
          }
        }
      ]
    },
    {
      "cell_type": "code",
      "source": [
        "data_nor=preprocessing.MinMaxScaler()\n",
        "data_nor.fit(Temp.to_numpy().reshape(-1, 1))\n",
        "norm_data=data_nor.transform(Temp.to_numpy().reshape(-1, 1))\n",
        "norm_data"
      ],
      "metadata": {
        "colab": {
          "base_uri": "https://localhost:8080/"
        },
        "id": "0oFz49_FA5b9",
        "outputId": "5fcbf9ae-a0b9-459a-cc39-3afddb15af9d"
      },
      "execution_count": null,
      "outputs": [
        {
          "output_type": "execute_result",
          "data": {
            "text/plain": [
              "array([[0.77376033],\n",
              "       [0.74121901],\n",
              "       [0.7231405 ],\n",
              "       ...,\n",
              "       [0.82438017],\n",
              "       [0.79700413],\n",
              "       [0.77840909]])"
            ]
          },
          "metadata": {},
          "execution_count": 54
        }
      ]
    },
    {
      "cell_type": "code",
      "source": [
        "plt.plot(norm_data)"
      ],
      "metadata": {
        "colab": {
          "base_uri": "https://localhost:8080/",
          "height": 283
        },
        "id": "NjcEiyjEBUvL",
        "outputId": "c4406b86-06d3-433a-d566-ce3a70b51478"
      },
      "execution_count": null,
      "outputs": [
        {
          "output_type": "execute_result",
          "data": {
            "text/plain": [
              "[<matplotlib.lines.Line2D at 0x7f64406b2d90>]"
            ]
          },
          "metadata": {},
          "execution_count": 55
        },
        {
          "output_type": "display_data",
          "data": {
            "text/plain": [
              "<Figure size 432x288 with 1 Axes>"
            ],
            "image/png": "[encoded data removed]"
          },
          "metadata": {
            "needs_background": "light"
          }
        }
      ]
    },
    {
      "cell_type": "code",
      "source": [
        ""
      ],
      "metadata": {
        "id": "f_jKNnKfBejO"
      },
      "execution_count": null,
      "outputs": []
    },
    {
      "cell_type": "markdown",
      "source": [
        "##5- Create the time series dataset using Time Series Data Generator"
      ],
      "metadata": {
        "id": "yxJHuI2glNjw"
      }
    },
    {
      "cell_type": "code",
      "source": [
        "# write your code below\n",
        "LEN=30\n",
        "data_gen=tf.keras.preprocessing.sequence.TimeseriesGenerator(norm_data,Temp.to_numpy(),length=LEN)\n",
        "data_gen"
      ],
      "metadata": {
        "id": "mpYcl0xZlW8g",
        "colab": {
          "base_uri": "https://localhost:8080/"
        },
        "outputId": "88328a50-f49a-4af9-ca5f-2369dd3c7aae"
      },
      "execution_count": null,
      "outputs": [
        {
          "output_type": "execute_result",
          "data": {
            "text/plain": [
              "<keras.preprocessing.sequence.TimeseriesGenerator at 0x7f6440672110>"
            ]
          },
          "metadata": {},
          "execution_count": 56
        }
      ]
    },
    {
      "cell_type": "markdown",
      "source": [
        "##6- Create data from the generator and split the data into training and testing"
      ],
      "metadata": {
        "id": "AwXqBBkplaaM"
      }
    },
    {
      "cell_type": "code",
      "source": [
        "# write your code below\n",
        "x_data=np.array([])\n",
        "y_data=np.array([])\n",
        "for x,y in data_gen:\n",
        "  x_data=np.append(x_data,x)\n",
        "  y_data=np.append(y_data,y)"
      ],
      "metadata": {
        "id": "0feQKRbZlcH2"
      },
      "execution_count": null,
      "outputs": []
    },
    {
      "cell_type": "markdown",
      "source": [
        "##7- Make sure the data shape is (batch_size,length,1) and the target shape is (batch_size,1)"
      ],
      "metadata": {
        "id": "W59_0wqGljSk"
      }
    },
    {
      "cell_type": "code",
      "source": [
        "x_data.shape,y_data.shape"
      ],
      "metadata": {
        "colab": {
          "base_uri": "https://localhost:8080/"
        },
        "id": "ctaIDvqXJ2oM",
        "outputId": "a6e99d4d-f996-4184-d4c2-ac3978501f39"
      },
      "execution_count": null,
      "outputs": [
        {
          "output_type": "execute_result",
          "data": {
            "text/plain": [
              "((833040,), (27768,))"
            ]
          },
          "metadata": {},
          "execution_count": 59
        }
      ]
    },
    {
      "cell_type": "code",
      "source": [
        "# write your code below\n",
        "x_data=x_data.reshape(-1,LEN,1)\n",
        "x_data.shape"
      ],
      "metadata": {
        "id": "PIAUX0MZllOu",
        "colab": {
          "base_uri": "https://localhost:8080/"
        },
        "outputId": "5cac0e60-3bb7-4802-977d-270c54d0924d"
      },
      "execution_count": null,
      "outputs": [
        {
          "output_type": "execute_result",
          "data": {
            "text/plain": [
              "(27768, 30, 1)"
            ]
          },
          "metadata": {},
          "execution_count": 60
        }
      ]
    },
    {
      "cell_type": "code",
      "source": [
        "x_train,x_test,y_train,y_test=model_selection.train_test_split(x_data,y_data,test_size=0.1,random_state=42)"
      ],
      "metadata": {
        "id": "XdD8CNsuKosL"
      },
      "execution_count": null,
      "outputs": []
    },
    {
      "cell_type": "markdown",
      "source": [
        "##8- Get the max value of the dataset"
      ],
      "metadata": {
        "id": "AD9MVwGWloHV"
      }
    },
    {
      "cell_type": "code",
      "source": [
        "# write your code below\n",
        "Data_max=np.max(Temp)\n",
        "Data_max"
      ],
      "metadata": {
        "id": "WABiMLUrlrWz",
        "colab": {
          "base_uri": "https://localhost:8080/"
        },
        "outputId": "dd81b8f6-a2d1-40fb-c6a8-aa5226a1b4d8"
      },
      "execution_count": null,
      "outputs": [
        {
          "output_type": "execute_result",
          "data": {
            "text/plain": [
              "94.6"
            ]
          },
          "metadata": {},
          "execution_count": 82
        }
      ]
    },
    {
      "cell_type": "markdown",
      "source": [
        "##9- Create the Data Pipeline"
      ],
      "metadata": {
        "id": "THhkxVb_lvWF"
      }
    },
    {
      "cell_type": "code",
      "source": [
        "# write your code below\n",
        "def pipline(x,y):\n",
        "  data=tf.data.Dataset.from_tensor_slices((x,y))\n",
        "  data=data.shuffle(2056)\n",
        "  data=data.batch(32)\n",
        "  data=data.prefetch(tf.data.AUTOTUNE)\n",
        "  return data"
      ],
      "metadata": {
        "id": "K-PCJIJelw1j"
      },
      "execution_count": null,
      "outputs": []
    },
    {
      "cell_type": "code",
      "source": [
        "train_dataset=pipline(x_train,y_train)\n",
        "test_dataset=pipline(x_test,y_test)\n",
        "train_dataset"
      ],
      "metadata": {
        "colab": {
          "base_uri": "https://localhost:8080/"
        },
        "id": "2eqmVfMlMdFJ",
        "outputId": "a8258355-bd77-47cf-fba8-47cf4186bc7f"
      },
      "execution_count": null,
      "outputs": [
        {
          "output_type": "execute_result",
          "data": {
            "text/plain": [
              "<PrefetchDataset element_spec=(TensorSpec(shape=(None, 30, 1), dtype=tf.float64, name=None), TensorSpec(shape=(None,), dtype=tf.float64, name=None))>"
            ]
          },
          "metadata": {},
          "execution_count": 67
        }
      ]
    },
    {
      "cell_type": "code",
      "source": [
        "for x,y in train_dataset.take(1):\n",
        "  # plt.subplot(1,2,1)\n",
        "  # plt.plot(x[0])\n",
        "  # plt.subplot(1,2,2)\n",
        "  # plt.plot(y)\n",
        "  print(x[0],'\\n\\n',x[1])"
      ],
      "metadata": {
        "colab": {
          "base_uri": "https://localhost:8080/"
        },
        "id": "0QBnai9qMwV8",
        "outputId": "c40eaf17-7993-4628-fa39-8c505cf5e02d"
      },
      "execution_count": null,
      "outputs": [
        {
          "output_type": "stream",
          "name": "stdout",
          "text": [
            "tf.Tensor(\n",
            "[[0.80836777]\n",
            " [0.80785124]\n",
            " [0.81456612]\n",
            " [0.79907025]\n",
            " [0.80733471]\n",
            " [0.77892562]\n",
            " [0.7732438 ]\n",
            " [0.78615702]\n",
            " [0.80991736]\n",
            " [0.8125    ]\n",
            " [0.82438017]\n",
            " [0.83161157]\n",
            " [0.83677686]\n",
            " [0.82076446]\n",
            " [0.82334711]\n",
            " [0.82696281]\n",
            " [0.83471074]\n",
            " [0.84142562]\n",
            " [0.82696281]\n",
            " [0.82283058]\n",
            " [0.81095041]\n",
            " [0.80836777]\n",
            " [0.80940083]\n",
            " [0.81559917]\n",
            " [0.82386364]\n",
            " [0.83419421]\n",
            " [0.82954545]\n",
            " [0.78873967]\n",
            " [0.77376033]\n",
            " [0.79700413]], shape=(30, 1), dtype=float64) \n",
            "\n",
            " tf.Tensor(\n",
            "[[0.8946281 ]\n",
            " [0.88068182]\n",
            " [0.87448347]\n",
            " [0.8589876 ]\n",
            " [0.85278926]\n",
            " [0.84917355]\n",
            " [0.86466942]\n",
            " [0.87758264]\n",
            " [0.875     ]\n",
            " [0.86002066]\n",
            " [0.85795455]\n",
            " [0.86157025]\n",
            " [0.85485537]\n",
            " [0.83987603]\n",
            " [0.84194215]\n",
            " [0.85433884]\n",
            " [0.85485537]\n",
            " [0.87086777]\n",
            " [0.88378099]\n",
            " [0.87396694]\n",
            " [0.87809917]\n",
            " [0.88533058]\n",
            " [0.89204545]\n",
            " [0.90289256]\n",
            " [0.89049587]\n",
            " [0.87603306]\n",
            " [0.8677686 ]\n",
            " [0.87190083]\n",
            " [0.87603306]\n",
            " [0.86518595]], shape=(30, 1), dtype=float64)\n"
          ]
        }
      ]
    },
    {
      "cell_type": "markdown",
      "source": [
        "##10- Create the Forcasting Model"
      ],
      "metadata": {
        "id": "KqRjGlWBlzbh"
      }
    },
    {
      "cell_type": "code",
      "source": [
        "# write your code below\n",
        "model_forcast=tf.keras.Sequential([\n",
        "                                 tf.keras.layers.Input((LEN,1)),\n",
        "                                 tf.keras.layers.Conv1D(filters=16,kernel_size=3,activation=tf.nn.leaky_relu,padding='causal'),\n",
        "                                 tf.keras.layers.Bidirectional((tf.keras.layers.GRU(128,return_sequences=True))),\n",
        "                                 tf.keras.layers.Bidirectional(tf.keras.layers.GRU(64)),\n",
        "                                 tf.keras.layers.Dense(1),\n",
        "                                 tf.keras.layers.Lambda(lambda x:x*Data_max)\n",
        "])\n",
        "\n",
        "model_forcast.compile(optimizer=tf.optimizers.Adam(),loss=tf.losses.Huber())\n",
        "model_forcast.summary()"
      ],
      "metadata": {
        "id": "0sn9bMCCl09W",
        "colab": {
          "base_uri": "https://localhost:8080/"
        },
        "outputId": "9a677ce5-6a58-45dd-d705-99f86dbf19a4"
      },
      "execution_count": null,
      "outputs": [
        {
          "output_type": "stream",
          "name": "stdout",
          "text": [
            "Model: \"sequential_1\"\n",
            "_________________________________________________________________\n",
            " Layer (type)                Output Shape              Param #   \n",
            "=================================================================\n",
            " conv1d_1 (Conv1D)           (None, 30, 16)            64        \n",
            "                                                                 \n",
            " bidirectional_2 (Bidirectio  (None, 30, 256)          112128    \n",
            " nal)                                                            \n",
            "                                                                 \n",
            " bidirectional_3 (Bidirectio  (None, 128)              123648    \n",
            " nal)                                                            \n",
            "                                                                 \n",
            " dense_1 (Dense)             (None, 1)                 129       \n",
            "                                                                 \n",
            " lambda_1 (Lambda)           (None, 1)                 0         \n",
            "                                                                 \n",
            "=================================================================\n",
            "Total params: 235,969\n",
            "Trainable params: 235,969\n",
            "Non-trainable params: 0\n",
            "_________________________________________________________________\n"
          ]
        }
      ]
    },
    {
      "cell_type": "code",
      "source": [
        "model_forcast.fit(train_dataset,epochs=10,validation_data=test_dataset)"
      ],
      "metadata": {
        "colab": {
          "base_uri": "https://localhost:8080/"
        },
        "id": "zeczzbGrPO9l",
        "outputId": "e5f0ff16-7eda-437a-92fe-b25fe0e59af0"
      },
      "execution_count": null,
      "outputs": [
        {
          "output_type": "stream",
          "name": "stdout",
          "text": [
            "Epoch 1/10\n",
            "781/781 [==============================] - 97s 107ms/step - loss: 4.6828 - val_loss: 2.7072\n",
            "Epoch 2/10\n",
            "781/781 [==============================] - 87s 111ms/step - loss: 2.9044 - val_loss: 2.8405\n",
            "Epoch 3/10\n",
            "781/781 [==============================] - 74s 94ms/step - loss: 2.8276 - val_loss: 2.8971\n",
            "Epoch 4/10\n",
            "781/781 [==============================] - 76s 97ms/step - loss: 2.7583 - val_loss: 2.8105\n",
            "Epoch 5/10\n",
            "781/781 [==============================] - 74s 95ms/step - loss: 2.7543 - val_loss: 2.5100\n",
            "Epoch 6/10\n",
            "781/781 [==============================] - 74s 95ms/step - loss: 2.7345 - val_loss: 3.1422\n",
            "Epoch 7/10\n",
            "781/781 [==============================] - 74s 95ms/step - loss: 2.7075 - val_loss: 2.4864\n",
            "Epoch 8/10\n",
            "781/781 [==============================] - 74s 94ms/step - loss: 2.6619 - val_loss: 2.5252\n",
            "Epoch 9/10\n",
            "781/781 [==============================] - 73s 94ms/step - loss: 2.6911 - val_loss: 2.7671\n",
            "Epoch 10/10\n",
            "781/781 [==============================] - 74s 95ms/step - loss: 2.6286 - val_loss: 2.9113\n"
          ]
        },
        {
          "output_type": "execute_result",
          "data": {
            "text/plain": [
              "<keras.callbacks.History at 0x7f6439ed9b90>"
            ]
          },
          "metadata": {},
          "execution_count": 85
        }
      ]
    },
    {
      "cell_type": "markdown",
      "source": [
        "##11- Plot the model prediction"
      ],
      "metadata": {
        "id": "X5xou27TmHwf"
      }
    },
    {
      "cell_type": "code",
      "source": [
        "# write your code below\n",
        "ypred=model_forcast.predict(x_test)\n",
        "plt.figure(figsize=(15,8))\n",
        "plt.plot(ypred)\n",
        "plt.plot(y_test)"
      ],
      "metadata": {
        "id": "ELY1rMkWmNqD",
        "colab": {
          "base_uri": "https://localhost:8080/",
          "height": 485
        },
        "outputId": "01ef2ad6-672e-4a82-b180-e16a10aa68bb"
      },
      "execution_count": null,
      "outputs": [
        {
          "output_type": "execute_result",
          "data": {
            "text/plain": [
              "[<matplotlib.lines.Line2D at 0x7f6435706410>]"
            ]
          },
          "metadata": {},
          "execution_count": 100
        },
        {
          "output_type": "display_data",
          "data": {
            "text/plain": [
              "<Figure size 1080x576 with 1 Axes>"
            ],
            "image/png": "[encoded data removed]"
          },
          "metadata": {
            "needs_background": "light"
          }
        }
      ]
    },
    {
      "cell_type": "markdown",
      "source": [
        "**We notice that the Plot is too close to the actual one**"
      ],
      "metadata": {
        "id": "ImiIychoXEYL"
      }
    }
  ]
}